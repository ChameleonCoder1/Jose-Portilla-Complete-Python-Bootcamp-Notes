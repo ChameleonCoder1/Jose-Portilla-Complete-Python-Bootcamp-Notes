{
 "cells": [
  {
   "cell_type": "code",
   "execution_count": 3,
   "metadata": {
    "collapsed": false
   },
   "outputs": [],
   "source": [
    "from IPython.display import clear_output"
   ]
  },
  {
   "cell_type": "code",
   "execution_count": 4,
   "metadata": {
    "collapsed": true
   },
   "outputs": [],
   "source": [
    "#Step 1: Write a function that can print out a board. Set up your board as a list, where \n",
    "#each index 1-9 corresponds with a number on a number pad, so you get a 3 by 3 board representation.\n",
    "def display_board(board):\n",
    "    \n",
    "    clear_output()\n",
    "    print('   |   |')\n",
    "    print(' ' + board[7] + ' | ' + board[8] + ' | ' + board[9])\n",
    "    print('   |   |')\n",
    "    print('-----------')\n",
    "    print('   |   |')\n",
    "    print(' ' + board[4] + ' | ' + board[5] + ' | ' + board[6])\n",
    "    print('   |   |')\n",
    "    print('-----------')\n",
    "    print('   |   |')\n",
    "    print(' ' + board[1] + ' | ' + board[2] + ' | ' + board[3])\n",
    "    print('   |   |')"
   ]
  },
  {
   "cell_type": "code",
   "execution_count": 5,
   "metadata": {
    "collapsed": false
   },
   "outputs": [
    {
     "name": "stdout",
     "output_type": "stream",
     "text": [
      "   |   |\n",
      "   |   |  \n",
      "   |   |\n",
      "-----------\n",
      "   |   |\n",
      "   |   |  \n",
      "   |   |\n",
      "-----------\n",
      "   |   |\n",
      "   |   |  \n",
      "   |   |\n"
     ]
    }
   ],
   "source": [
    "TheBoard=[\" \"]*10\n",
    "display_board(TheBoard)"
   ]
  },
  {
   "cell_type": "code",
   "execution_count": 6,
   "metadata": {
    "collapsed": true
   },
   "outputs": [],
   "source": [
    "#Step 2: Write a function that can take in a player input and \n",
    "#assign their marker as 'X' or 'O'. Think about using while loops \n",
    "#to continually ask until you get a correct answer."
   ]
  },
  {
   "cell_type": "code",
   "execution_count": 7,
   "metadata": {
    "collapsed": false
   },
   "outputs": [],
   "source": [
    "def player_input():\n",
    "    marker = ''\n",
    "    while not (marker == 'X' or marker == 'O'):\n",
    "        marker = raw_input('Player 1: Do you want to be X or O?').upper()\n",
    "\n",
    "    if marker == 'X':\n",
    "        return ('X', 'O')\n",
    "    else:\n",
    "        return ('O', 'X')"
   ]
  },
  {
   "cell_type": "code",
   "execution_count": null,
   "metadata": {
    "collapsed": true
   },
   "outputs": [],
   "source": []
  },
  {
   "cell_type": "code",
   "execution_count": 8,
   "metadata": {
    "collapsed": true
   },
   "outputs": [],
   "source": [
    "#Step 3: Write a function that takes, in \n",
    "#the board list object, a marker ('X' or 'O'), and \n",
    "#a desired position (number 1-9) and assigns it to the board."
   ]
  },
  {
   "cell_type": "code",
   "execution_count": 9,
   "metadata": {
    "collapsed": true
   },
   "outputs": [],
   "source": [
    "def place_marker(board, marker, position):\n",
    "    board[position] = marker\n"
   ]
  },
  {
   "cell_type": "code",
   "execution_count": 10,
   "metadata": {
    "collapsed": true
   },
   "outputs": [],
   "source": [
    "#Step 4: Write a function that takes in a board and a mark (X or O) \n",
    "#and then checks to see if that mark has won.\n"
   ]
  },
  {
   "cell_type": "code",
   "execution_count": 11,
   "metadata": {
    "collapsed": true
   },
   "outputs": [],
   "source": [
    "def win_check(board,mark):\n",
    "    \n",
    "    return ((board[7] == mark and board[8] == mark and board[9] == mark) or # across the top\n",
    "    (board[4] == mark and board[5] == mark and board[6] == mark) or # across the middle\n",
    "    (board[1] == mark and board[2] == mark and board[3] == mark) or # across the bottom\n",
    "    (board[7] == mark and board[4] == mark and board[1] == mark) or # down themarkft side\n",
    "    (board[8] == mark and board[5] == mark and board[2] == mark) or # down the middle\n",
    "    (board[9] == mark and board[6] == mark and board[3] == mark) or # down the right side\n",
    "    (board[7] == mark and board[5] == mark and board[3] == mark) or # diagonal\n",
    "    (board[9] == mark and board[5] == mark and board[1] == mark)) # diagonal\n",
    "\n",
    "#NOTE: if you use a statement that is too long and needs to go to the next line, use \\ at the end of a line and\n",
    "#continue onto the next line. Not sure why it wasn't needed here...but he used it for an \"if\" statement that was\n",
    "#very long and needed multiple lines\n",
    "\n"
   ]
  },
  {
   "cell_type": "code",
   "execution_count": 12,
   "metadata": {
    "collapsed": true
   },
   "outputs": [],
   "source": [
    "#Step 5: Write a function that uses the random module to randomly decide which player goes first. \n",
    "#You may want to lookup random.randint() Return a string of which player went first."
   ]
  },
  {
   "cell_type": "code",
   "execution_count": 13,
   "metadata": {
    "collapsed": true
   },
   "outputs": [],
   "source": [
    "import random\n",
    "def choose_first():\n",
    "    if random.randint(0, 1) == 0:\n",
    "        return 'Player 2'\n",
    "    else:\n",
    "        return 'Player 1'"
   ]
  },
  {
   "cell_type": "code",
   "execution_count": 14,
   "metadata": {
    "collapsed": true
   },
   "outputs": [],
   "source": [
    "#Step 6: Write a function that returns a boolean indicating \n",
    "#whether a space on the board is freely available."
   ]
  },
  {
   "cell_type": "code",
   "execution_count": 15,
   "metadata": {
    "collapsed": false
   },
   "outputs": [],
   "source": [
    "def space_check(board, position):\n",
    "    return board[position]==\" \"\n"
   ]
  },
  {
   "cell_type": "code",
   "execution_count": null,
   "metadata": {
    "collapsed": true
   },
   "outputs": [],
   "source": []
  },
  {
   "cell_type": "code",
   "execution_count": 16,
   "metadata": {
    "collapsed": true
   },
   "outputs": [],
   "source": [
    "#Step 7: Write a function that checks if the board is full and \n",
    "#returns a boolean value. True if full, False otherwise."
   ]
  },
  {
   "cell_type": "code",
   "execution_count": 17,
   "metadata": {
    "collapsed": false
   },
   "outputs": [],
   "source": [
    "def full_board_check(board):\n",
    "    for i in range(1,10):\n",
    "        if space_check(board, i):\n",
    "            return False\n",
    "    return True"
   ]
  },
  {
   "cell_type": "code",
   "execution_count": null,
   "metadata": {
    "collapsed": true
   },
   "outputs": [],
   "source": []
  },
  {
   "cell_type": "code",
   "execution_count": 18,
   "metadata": {
    "collapsed": true
   },
   "outputs": [],
   "source": [
    "#Step 8: Write a function that asks for a player's next position (as a number 1-9) and \n",
    "#then uses the function from step 6 to check if its a free position. \n",
    "#If it is, then return the position for later use. "
   ]
  },
  {
   "cell_type": "code",
   "execution_count": 19,
   "metadata": {
    "collapsed": true
   },
   "outputs": [],
   "source": [
    "def player_choice(board):\n",
    "    # Using strings because of raw_input\n",
    "    position = ' '\n",
    "    while position not in '1 2 3 4 5 6 7 8 9'.split() or not space_check(board, int(position)):\n",
    "        \n",
    "        position = raw_input('Choose your next position: (1-9) ')\n",
    "    return int(position)\n",
    "\n",
    "#.split takes in a string and splits it by spaces into a list\n",
    "#while position not in '1 2 3 4 5 6 7 8 9'.split() checks for if the person put in something other than that set of\n",
    "#numbers. for instance, if they put in \"cow\" the while loop runs again (it asks them to Choose their position again)\n",
    "#Then, while position...or not space_check(board, int(position)) checks to see if the space is NOT open. If this\n",
    "#is the case, it runs the while loop again (asks them to Choose their position). Once the input comes in,\n",
    "#if it passes through the while loop test, then it goes on to the return statement.\n"
   ]
  },
  {
   "cell_type": "code",
   "execution_count": null,
   "metadata": {
    "collapsed": true
   },
   "outputs": [],
   "source": []
  },
  {
   "cell_type": "code",
   "execution_count": 20,
   "metadata": {
    "collapsed": true
   },
   "outputs": [],
   "source": [
    "#Step 9: Write a function that asks the player if they \n",
    "#want to play again and returns a boolean True if they do want to play again."
   ]
  },
  {
   "cell_type": "code",
   "execution_count": 21,
   "metadata": {
    "collapsed": true
   },
   "outputs": [],
   "source": [
    "def replay():\n",
    "    return raw_input('Do you want to play again? Enter Yes or No: ').lower().startswith('y')\n",
    "\n",
    "#.startswith returns true if string starts with ('value') and false otherwise. So here, if the user\n",
    "#inputted \"sure\", then they actually wouldn't get to play again."
   ]
  },
  {
   "cell_type": "code",
   "execution_count": null,
   "metadata": {
    "collapsed": false
   },
   "outputs": [],
   "source": []
  },
  {
   "cell_type": "code",
   "execution_count": 22,
   "metadata": {
    "collapsed": true
   },
   "outputs": [],
   "source": [
    "#Step 10: Here comes the hard part! Use while loops \n",
    "#and the functions you've made to run the game!"
   ]
  },
  {
   "cell_type": "markdown",
   "metadata": {
    "collapsed": false
   },
   "source": [
    "print('Welcome to Tic Tac Toe!')\n",
    "\n",
    "while True:\n",
    "    # Reset the board\n",
    "    theBoard = [' '] * 10\n",
    "    player1_marker, player2_marker = player_input()\n",
    "    #^that is tuple unpacking. makes player1_marker and player2_marker the outputs of that tuple unpacked\n",
    "    turn = choose_first()\n",
    "    print(turn + ' will go first.')\n",
    "    game_on = True\n",
    "\n",
    "    while game_on:\n",
    "        if turn == 'Player 1':\n",
    "            # Player1's turn.\n",
    "            \n",
    "            display_board(theBoard)\n",
    "            position = player_choice(theBoard)\n",
    "            place_marker(theBoard, player1_marker, position)\n",
    "\n",
    "            if win_check(theBoard, player1_marker):\n",
    "                display_board(theBoard)\n",
    "                print('Congratualtions! You have won the game!')\n",
    "                game_on = False\n",
    "            else:\n",
    "                if full_board_check(theBoard):\n",
    "                    display_board(theBoard)\n",
    "                    print('The game is a draw!')\n",
    "                    break\n",
    "                    #we don't say game_on=false here because that way we can say the else statement below, \n",
    "                    #changing turn to player 2. In other words, we don't want to turn the game off \n",
    "                    #if the board is not full yet. Could have made the above else statement that said \n",
    "                    #elif full_board_check(theBoard): and then said game_on=false instead of break,\n",
    "                    #and didn't indent (2 less) the below else statement as\n",
    "                    #much. would have gotten same thing\n",
    "                else:\n",
    "                    turn = 'Player 2'\n",
    "\n",
    "        else:\n",
    "            # Player2's turn.\n",
    "            \n",
    "            display_board(theBoard)\n",
    "            position = player_choice(theBoard)\n",
    "            place_marker(theBoard, player2_marker, position)\n",
    "\n",
    "            if win_check(theBoard, player2_marker):\n",
    "                display_board(theBoard)\n",
    "                print('Player 2 has won!')\n",
    "                game_on = False\n",
    "            else:\n",
    "                if full_board_check(theBoard):\n",
    "                    display_board(theBoard)\n",
    "                    print('The game is a tie!')\n",
    "                    break\n",
    "                else:\n",
    "                    turn = 'Player 1'\n",
    "\n",
    "    if not replay():\n",
    "        break\n",
    "    #if not (meaning if the person said they didnt want to play again) then break out of original while loop (ends\n",
    "    #game)"
   ]
  },
  {
   "cell_type": "code",
   "execution_count": null,
   "metadata": {
    "collapsed": false
   },
   "outputs": [
    {
     "name": "stdout",
     "output_type": "stream",
     "text": [
      "Welcome to Tic Tac Toe!\n"
     ]
    }
   ],
   "source": [
    "print('Welcome to Tic Tac Toe!')\n",
    "\n",
    "while True:\n",
    "\n",
    "    # Reset the board\n",
    "    theBoard = [' '] * 10\n",
    "    player1_marker, player2_marker = player_input()\n",
    "    #^that is tuple unpacking. makes player1_marker and player2_marker the outputs of that tuple unpacked\n",
    "    turn = choose_first()\n",
    "    print(turn + ' will go first.')\n",
    "    game_on = True\n",
    "\n",
    "while game_on:\n",
    "    if turn == 'Player 1':\n",
    "        # Player1's turn.\n",
    "\n",
    "        display_board(theBoard)\n",
    "        position = player_choice(theBoard)\n",
    "        place_marker(theBoard, player1_marker, position)\n",
    "\n",
    "        if win_check(theBoard, player1_marker):\n",
    "            display_board(theBoard)\n",
    "            print('Congratualtions! You have won the game!')\n",
    "            game_on = False\n",
    "        else:\n",
    "            if full_board_check(theBoard):\n",
    "                display_board(theBoard)\n",
    "                print('The game is a draw!')\n",
    "                break\n",
    "                #we don't say game_on=false here because that way we can say the else statement below, \n",
    "                #changing turn to player 2. In other words, we don't want to turn the game off \n",
    "                #if the board is not full yet. Could have made the above else statement that said \n",
    "                #elif full_board_check(theBoard): and then said game_on=false instead of break,\n",
    "                #and didn't indent (2 less) the below else statement as\n",
    "                #much. would have gotten same thing\n",
    "            else:\n",
    "                turn = 'Player 2'\n",
    "\n",
    "    else:\n",
    "        # Player2's turn.\n",
    "\n",
    "        display_board(theBoard)\n",
    "        position = player_choice(theBoard)\n",
    "        place_marker(theBoard, player2_marker, position)\n",
    "\n",
    "        if win_check(theBoard, player2_marker):\n",
    "            display_board(theBoard)\n",
    "            print('Player 2 has won!')\n",
    "            game_on = False\n",
    "        else:\n",
    "            if full_board_check(theBoard):\n",
    "                display_board(theBoard)\n",
    "                print('The game is a tie!')\n",
    "                break\n",
    "            else:\n",
    "                turn = 'Player 1'\n",
    "\n",
    "if not replay():\n",
    "    break\n",
    "#if not (meaning if the person said they didnt want to play again) then break out of original while loop (ends\n",
    "#game)\n"
   ]
  },
  {
   "cell_type": "code",
   "execution_count": null,
   "metadata": {
    "collapsed": true
   },
   "outputs": [],
   "source": []
  },
  {
   "cell_type": "code",
   "execution_count": null,
   "metadata": {
    "collapsed": true
   },
   "outputs": [],
   "source": []
  },
  {
   "cell_type": "code",
   "execution_count": null,
   "metadata": {
    "collapsed": true
   },
   "outputs": [],
   "source": []
  }
 ],
 "metadata": {
  "kernelspec": {
   "display_name": "Python 2",
   "language": "python",
   "name": "python2"
  },
  "language_info": {
   "codemirror_mode": {
    "name": "ipython",
    "version": 2
   },
   "file_extension": ".py",
   "mimetype": "text/x-python",
   "name": "python",
   "nbconvert_exporter": "python",
   "pygments_lexer": "ipython2",
   "version": "2.7.11"
  }
 },
 "nbformat": 4,
 "nbformat_minor": 0
}
