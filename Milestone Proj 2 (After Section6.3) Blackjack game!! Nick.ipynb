{
 "cells": [
  {
   "cell_type": "code",
   "execution_count": 1,
   "metadata": {
    "collapsed": true
   },
   "outputs": [],
   "source": [
    "#Assignment:\n",
    "\n",
    "#You need to create a simple text-based BlackJack game\n",
    "#The game needs to have one player versus an automated dealer.\n",
    "#The player can stand or hit.\n",
    "#The player must be able to pick their betting amount.\n",
    "#You need to keep track fo the players total money.\n",
    "#You need to alert the player of wins,losses, or busts, etc...\n",
    "\n",
    "#You must use OOP and classes in some portion of your game...\n",
    "#You can not just use functions in your game. Use classes to help you \n",
    "#define the Deck and the Player's hand. There are many right ways to \n",
    "#do this, so explore it well!"
   ]
  },
  {
   "cell_type": "code",
   "execution_count": 2,
   "metadata": {
    "collapsed": true
   },
   "outputs": [],
   "source": [
    "import random\n",
    "\n",
    "deckval={\"A\":1,\"2\":2,\"3\":3,\"4\":4,\"5\":5,\"6\":6,\"7\":7,\"8\":8,\"9\":9,\"10\":10,\"J\":10,\"Q\":10, \"K\":10} \n",
    "deckcard=[\"A\",\"2\",\"3\",\"4\",\"5\",\"6\",\"7\",\"8\",\"9\",\"10\",\"J\",\"Q\",\"K\"]\n",
    "decksuit=[\"Heart\",\"Spade\",\"Club\",\"Diamond\"]"
   ]
  },
  {
   "cell_type": "code",
   "execution_count": null,
   "metadata": {
    "collapsed": false
   },
   "outputs": [],
   "source": [
    "\n",
    "    "
   ]
  },
  {
   "cell_type": "code",
   "execution_count": null,
   "metadata": {
    "collapsed": false
   },
   "outputs": [],
   "source": []
  },
  {
   "cell_type": "code",
   "execution_count": null,
   "metadata": {
    "collapsed": true
   },
   "outputs": [],
   "source": []
  },
  {
   "cell_type": "code",
   "execution_count": null,
   "metadata": {
    "collapsed": false
   },
   "outputs": [],
   "source": []
  },
  {
   "cell_type": "code",
   "execution_count": null,
   "metadata": {
    "collapsed": false,
    "scrolled": false
   },
   "outputs": [],
   "source": []
  },
  {
   "cell_type": "code",
   "execution_count": 3,
   "metadata": {
    "collapsed": false
   },
   "outputs": [],
   "source": [
    "class Card(object):\n",
    "    \n",
    "    def __init__(self,card,suit):\n",
    "        self.card=card\n",
    "        self.suit=suit\n",
    "        \n",
    "    def __str__(self):\n",
    "        for thesuits in decksuit:\n",
    "            for thecards in deckcard:\n",
    "                return thesuits + thecards\n",
    "    \n",
    "    def cardnum(self):\n",
    "        acard=random.choice(deckcard)\n",
    "        return deckval[acard]\n",
    "    \n",
    "    def suittype(self):\n",
    "        self.suittype=decksuit\n",
    "        \n",
    "        return self.suittype"
   ]
  },
  {
   "cell_type": "code",
   "execution_count": 4,
   "metadata": {
    "collapsed": false
   },
   "outputs": [],
   "source": [
    "card1=Card((),())"
   ]
  },
  {
   "cell_type": "code",
   "execution_count": 5,
   "metadata": {
    "collapsed": false
   },
   "outputs": [
    {
     "data": {
      "text/plain": [
       "10"
      ]
     },
     "execution_count": 5,
     "metadata": {},
     "output_type": "execute_result"
    }
   ],
   "source": [
    "card1.cardnum()"
   ]
  },
  {
   "cell_type": "code",
   "execution_count": 6,
   "metadata": {
    "collapsed": false
   },
   "outputs": [
    {
     "name": "stdout",
     "output_type": "stream",
     "text": [
      "HeartA\n"
     ]
    }
   ],
   "source": [
    "print card1"
   ]
  },
  {
   "cell_type": "code",
   "execution_count": 7,
   "metadata": {
    "collapsed": false
   },
   "outputs": [],
   "source": [
    "class Deck:\n",
    "    cardclass=Card((),())\n",
    "    def __init__(self):\n",
    "        self.deck=[]\n",
    "        for thesuits in decksuit:\n",
    "            for thecards in deckcard:\n",
    "                self.deck.append(Card(thesuits,thecards))\n",
    "    \n",
    "    def __str__(self):\n",
    "        return self.deck\n",
    "    \n",
    "    def shuffle(self):\n",
    "        self.shuffle=random.shuffle(self.deck)\n",
    "        \n",
    "    def showdeck(self):\n",
    "        return self.deck\n",
    "    \n",
    "    def dealcard(self):\n",
    "        self.dealcard=self.deck.pop()\n",
    "        \n",
    "        return self.dealcard.cardnum()\n",
    "                "
   ]
  },
  {
   "cell_type": "code",
   "execution_count": 8,
   "metadata": {
    "collapsed": false
   },
   "outputs": [],
   "source": [
    "deck1 = Deck()\n"
   ]
  },
  {
   "cell_type": "code",
   "execution_count": 9,
   "metadata": {
    "collapsed": false
   },
   "outputs": [],
   "source": [
    "deck1.shuffle()"
   ]
  },
  {
   "cell_type": "code",
   "execution_count": 10,
   "metadata": {
    "collapsed": false
   },
   "outputs": [
    {
     "data": {
      "text/plain": [
       "<__main__.Deck instance at 0x106fe8440>"
      ]
     },
     "execution_count": 10,
     "metadata": {},
     "output_type": "execute_result"
    }
   ],
   "source": [
    "deck1"
   ]
  },
  {
   "cell_type": "code",
   "execution_count": 11,
   "metadata": {
    "collapsed": false
   },
   "outputs": [
    {
     "data": {
      "text/plain": [
       "6"
      ]
     },
     "execution_count": 11,
     "metadata": {},
     "output_type": "execute_result"
    }
   ],
   "source": [
    "deck1.dealcard()"
   ]
  },
  {
   "cell_type": "code",
   "execution_count": 12,
   "metadata": {
    "collapsed": false
   },
   "outputs": [],
   "source": [
    "class BlackjackHandPlayer(object):\n",
    "    deck2=Deck() \n",
    "    deck2.shuffle\n",
    "    \n",
    "    def __init__(self, playerhand=0, dealer=0, stack=1000):\n",
    "        self.stack=stack\n",
    "        self.playerhand=playerhand\n",
    "        self.dealer=dealer\n",
    "        print \"---------------\"\n",
    "        print \"|             |\"\n",
    "        print \"|Your hand:\"+str(playerhand)+\"  |\"        \n",
    "        print \"|             |\"\n",
    "        print \"|             |\"\n",
    "        print \"|Dealer:\"+str(dealer)+\"     |\"\n",
    "        print \"---------------\"\n",
    "    \n",
    "    def bj_board(self, playerhand=0, dealer=0):\n",
    "        card2=Card((),())\n",
    "        playing=1\n",
    "        while True:\n",
    "            \n",
    "            HitOrStand=raw_input(\"h or s?\")\n",
    "            if HitOrStand==\"h\" and playing==1:\n",
    "                    playerhand=playerhand + card2.cardnum()\n",
    "                    if playerhand<21:\n",
    "                        print \"---------------\"\n",
    "                        print \"|             |\"\n",
    "                        print \"|Your hand:\"+str(playerhand)+\"  |\"        \n",
    "                        print \"|             |\"\n",
    "                        print \"|             |\"\n",
    "                        print \"|Dealer:\"+str(dealer)+\"     |\"\n",
    "                        print \"---------------\"\n",
    "                        continue\n",
    "                    elif playerhand>21:\n",
    "                        print \"You busted with a %s\" %playerhand\n",
    "                        playing=2\n",
    "                    else:\n",
    "                        print \"Congratulations! 21!\"\n",
    "                        playing=False\n",
    "            elif HitOrStand==\"s\" or (HitOrStand==\"h\" and playing==2):\n",
    "                    dealer=dealer + card2.cardnum()\n",
    "                    if dealer<17:\n",
    "                        dealer=dealer + card2.cardnum()\n",
    "                        if dealer<17:\n",
    "                            dealer=dealer + card2.cardnum()\n",
    "                            if dealer<17:\n",
    "                                dealer=dealer+card2.cardnum()\n",
    "                            else:\n",
    "                                break\n",
    "                        else:\n",
    "                            break\n",
    "                            \n",
    "                    elif 17<=dealer<=21:\n",
    "                        break\n",
    "                    else: \n",
    "                        break\n",
    "                        \n",
    "            else:\n",
    "                    print \"Come on man... press the h or the s\"\n",
    "                    continue\n",
    "                    \n",
    "        print \"---------------\"\n",
    "        print \"|             |\"\n",
    "        print \"|Your hand:\"+str(playerhand)+\"  |\"        \n",
    "        print \"|             |\"\n",
    "        print \"|             |\"\n",
    "        print \"|Dealer:\"+str(dealer)+\"     |\"\n",
    "        print \"---------------\"\n",
    "            \n",
    "        \n",
    "    \n",
    "    def bet(self,bet=10):\n",
    "        while True:\n",
    "            try:\n",
    "                bet=int(raw_input(\"How much would you like to bet?: \"))\n",
    "                if bet<=self.stack:\n",
    "                    self.stack=self.stack-bet\n",
    "                else: \n",
    "                    print \"Enter a value less than or equal to your stack: %s\" %self.stack\n",
    "                    continue\n",
    "            except:\n",
    "                print \"Enter a numeric value\"\n",
    "                continue\n",
    "            else:\n",
    "                print \"You bet %s\" %bet\n",
    "                return bet\n",
    "                break"
   ]
  },
  {
   "cell_type": "code",
   "execution_count": 14,
   "metadata": {
    "collapsed": false
   },
   "outputs": [
    {
     "name": "stdout",
     "output_type": "stream",
     "text": [
      "---------------\n",
      "|             |\n",
      "|Your hand:0  |\n",
      "|             |\n",
      "|             |\n",
      "|Dealer:0     |\n",
      "---------------\n"
     ]
    }
   ],
   "source": [
    "nick=BlackjackHandPlayer()"
   ]
  },
  {
   "cell_type": "code",
   "execution_count": null,
   "metadata": {
    "collapsed": false
   },
   "outputs": [
    {
     "name": "stdout",
     "output_type": "stream",
     "text": [
      "h or s?h\n",
      "---------------\n",
      "|             |\n",
      "|Your hand:2  |\n",
      "|             |\n",
      "|             |\n",
      "|Dealer:0     |\n",
      "---------------\n",
      "h or s?s\n",
      "Come on man... press the h or the s\n",
      "h or s?s\n",
      "Come on man... press the h or the s\n"
     ]
    }
   ],
   "source": [
    "nick.bj_board()"
   ]
  },
  {
   "cell_type": "code",
   "execution_count": 16,
   "metadata": {
    "collapsed": false
   },
   "outputs": [
    {
     "name": "stdout",
     "output_type": "stream",
     "text": [
      "How much would you like to bet?: cow\n",
      "Enter a numeric value\n",
      "How much would you like to bet?: 1000000000\n",
      "Enter a value less than or equal to your stack: 1000\n",
      "How much would you like to bet?: 900\n",
      "You bet 900\n"
     ]
    },
    {
     "data": {
      "text/plain": [
       "900"
      ]
     },
     "execution_count": 16,
     "metadata": {},
     "output_type": "execute_result"
    }
   ],
   "source": [
    "nick.bet()"
   ]
  },
  {
   "cell_type": "code",
   "execution_count": null,
   "metadata": {
    "collapsed": true
   },
   "outputs": [],
   "source": []
  },
  {
   "cell_type": "code",
   "execution_count": 30,
   "metadata": {
    "collapsed": false
   },
   "outputs": [
    {
     "data": {
      "text/plain": [
       "1000"
      ]
     },
     "execution_count": 30,
     "metadata": {},
     "output_type": "execute_result"
    }
   ],
   "source": [
    "nick.stack"
   ]
  },
  {
   "cell_type": "code",
   "execution_count": 6,
   "metadata": {
    "collapsed": false
   },
   "outputs": [
    {
     "name": "stdout",
     "output_type": "stream",
     "text": [
      "How much would you like to bet?: cow\n",
      "Enter a numeric value\n",
      "How much would you like to bet?: 10000000\n",
      "Enter a value less than or equal to your stack: 1000\n",
      "How much would you like to bet?: 10\n",
      "You bet 10\n"
     ]
    },
    {
     "data": {
      "text/plain": [
       "10"
      ]
     },
     "execution_count": 6,
     "metadata": {},
     "output_type": "execute_result"
    }
   ],
   "source": [
    "nick.bet()"
   ]
  },
  {
   "cell_type": "code",
   "execution_count": 7,
   "metadata": {
    "collapsed": false
   },
   "outputs": [
    {
     "data": {
      "text/plain": [
       "990"
      ]
     },
     "execution_count": 7,
     "metadata": {},
     "output_type": "execute_result"
    }
   ],
   "source": [
    "nick.stack"
   ]
  },
  {
   "cell_type": "code",
   "execution_count": null,
   "metadata": {
    "collapsed": false
   },
   "outputs": [],
   "source": []
  },
  {
   "cell_type": "code",
   "execution_count": 51,
   "metadata": {
    "collapsed": true
   },
   "outputs": [],
   "source": [
    "class Card:\n",
    "    #Notice we didnt have (object) afterwards\n",
    "    \n",
    "    \n",
    "    def __init__(self,suit,rank):\n",
    "        self.suit=suit\n",
    "        self.rank=rank\n",
    "        \n",
    "    def __str__(self):\n",
    "        return self.suit + self.rank\n",
    "    \n",
    "    def whatsuit(self):\n",
    "        return self.suit\n",
    "    \n",
    "    def whatrank(self):\n",
    "        return self.rank\n",
    "    \n",
    "    def draw(self):\n",
    "        print (self.suit + self.rank)\n",
    "        \n",
    "        \n",
    "        \n",
    "    "
   ]
  },
  {
   "cell_type": "code",
   "execution_count": 53,
   "metadata": {
    "collapsed": false
   },
   "outputs": [],
   "source": []
  },
  {
   "cell_type": "code",
   "execution_count": 50,
   "metadata": {
    "collapsed": true
   },
   "outputs": [],
   "source": []
  },
  {
   "cell_type": "markdown",
   "metadata": {},
   "source": []
  },
  {
   "cell_type": "raw",
   "metadata": {},
   "source": []
  },
  {
   "cell_type": "raw",
   "metadata": {},
   "source": []
  },
  {
   "cell_type": "code",
   "execution_count": null,
   "metadata": {
    "collapsed": true
   },
   "outputs": [],
   "source": []
  },
  {
   "cell_type": "code",
   "execution_count": 24,
   "metadata": {
    "collapsed": false
   },
   "outputs": [],
   "source": [
    "def hit(self):\n",
    "        while True:\n",
    "            try:\n",
    "                hitme=raw_input(\"Do ya wanna hit dood?? y or n: \")\n",
    "                if hitme==\"y\":\n",
    "                    pass\n",
    "                    #^Where we add another card to that players hand. This cell needed to come\n",
    "                    #after the class hand() cell because otherwise the playerhand would not \n",
    "                    #be created\n",
    "            except:\n",
    "                pass\n",
    "            "
   ]
  },
  {
   "cell_type": "code",
   "execution_count": 25,
   "metadata": {
    "collapsed": true
   },
   "outputs": [],
   "source": [
    "def stand(self):\n",
    "        while True:\n",
    "            try:\n",
    "                hitme=raw_input(\"Do ya wanna hit dood?? y or n: \")\n",
    "                if hitme==\"y\":\n",
    "                    pass\n",
    "                    #Similar to the def hit cell above, this cell needed to come after the class hand() cell\n",
    "                    #because otherwise the playerhand would not \n",
    "                    #be created\n",
    "            except:\n",
    "                pass\n",
    "            "
   ]
  },
  {
   "cell_type": "code",
   "execution_count": null,
   "metadata": {
    "collapsed": true
   },
   "outputs": [],
   "source": []
  },
  {
   "cell_type": "code",
   "execution_count": null,
   "metadata": {
    "collapsed": false
   },
   "outputs": [],
   "source": []
  },
  {
   "cell_type": "code",
   "execution_count": null,
   "metadata": {
    "collapsed": true
   },
   "outputs": [],
   "source": []
  }
 ],
 "metadata": {
  "kernelspec": {
   "display_name": "Python 2",
   "language": "python",
   "name": "python2"
  },
  "language_info": {
   "codemirror_mode": {
    "name": "ipython",
    "version": 2
   },
   "file_extension": ".py",
   "mimetype": "text/x-python",
   "name": "python",
   "nbconvert_exporter": "python",
   "pygments_lexer": "ipython2",
   "version": "2.7.11"
  }
 },
 "nbformat": 4,
 "nbformat_minor": 0
}
