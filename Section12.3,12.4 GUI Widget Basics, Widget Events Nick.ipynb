{
 "cells": [
  {
   "cell_type": "code",
   "execution_count": 1,
   "metadata": {
    "collapsed": true
   },
   "outputs": [],
   "source": [
    "#Section 12.3: Widget Basics"
   ]
  },
  {
   "cell_type": "code",
   "execution_count": 2,
   "metadata": {
    "collapsed": true
   },
   "outputs": [],
   "source": [
    "#In this lecture, we will continue to build off of our\n",
    "#understanding of interact and interactive to begin using\n",
    "#full widgets.\n",
    "\n",
    "#What are widgets?\n",
    "#Widgets are eventful python objects that have a representation\n",
    "#in the browser, often as a control like a slider, textbox, etc.\n",
    "\n",
    "#What can they be used for?\n",
    "#You can use widgets to build interactive GUIs \n",
    "#for your notebooks. You can also use widgets to \n",
    "#synchronize stateful and stateless information\n",
    "#between Python and JavaScript.\n",
    "\n",
    "#To use a widget framework, you need to import ipywidgets..."
   ]
  },
  {
   "cell_type": "code",
   "execution_count": 3,
   "metadata": {
    "collapsed": true
   },
   "outputs": [],
   "source": [
    "from ipywidgets import *"
   ]
  },
  {
   "cell_type": "code",
   "execution_count": 4,
   "metadata": {
    "collapsed": true
   },
   "outputs": [],
   "source": [
    "#repr\n",
    "\n",
    "#Widgets have their own display repr which allows \n",
    "#them to be displayed using IPython's display framework. \n",
    "#Constructing and returning an IntSlider automatically \n",
    "#displays the widget (as seen below). Widgets are displayed \n",
    "#inside the widget area, which sits between the code cell \n",
    "#and output. You can hide all of the widgets in the widget \n",
    "#area by clicking the grey x in the margin."
   ]
  },
  {
   "cell_type": "code",
   "execution_count": null,
   "metadata": {
    "collapsed": true
   },
   "outputs": [],
   "source": []
  },
  {
   "cell_type": "code",
   "execution_count": 6,
   "metadata": {
    "collapsed": true
   },
   "outputs": [],
   "source": [
    "#Since we imported everything in ipywidgets, we can call widgets\n",
    "#individually...\n",
    "IntSlider()"
   ]
  },
  {
   "cell_type": "code",
   "execution_count": 7,
   "metadata": {
    "collapsed": true
   },
   "outputs": [],
   "source": [
    "from IPython.display import display"
   ]
  },
  {
   "cell_type": "code",
   "execution_count": 8,
   "metadata": {
    "collapsed": true
   },
   "outputs": [],
   "source": [
    "w=IntSlider()\n",
    "display(w)"
   ]
  },
  {
   "cell_type": "code",
   "execution_count": 9,
   "metadata": {
    "collapsed": true
   },
   "outputs": [],
   "source": [
    "display(w)"
   ]
  },
  {
   "cell_type": "code",
   "execution_count": 10,
   "metadata": {
    "collapsed": true
   },
   "outputs": [],
   "source": [
    "#^So these two widgets move with eachother since they are\n",
    "#linked."
   ]
  },
  {
   "cell_type": "code",
   "execution_count": 11,
   "metadata": {
    "collapsed": false
   },
   "outputs": [
    {
     "data": {
      "text/plain": [
       "9"
      ]
     },
     "execution_count": 11,
     "metadata": {},
     "output_type": "execute_result"
    }
   ],
   "source": [
    "w.value"
   ]
  },
  {
   "cell_type": "code",
   "execution_count": 12,
   "metadata": {
    "collapsed": true
   },
   "outputs": [],
   "source": [
    "#Or we can set a this to a value by typing\n",
    "#w.value=50 and the widgets slider would change to 50."
   ]
  },
  {
   "cell_type": "code",
   "execution_count": 13,
   "metadata": {
    "collapsed": true
   },
   "outputs": [],
   "source": [
    "#In addition to value, most widgets share keys, description,\n",
    "#disabled, and visible. "
   ]
  },
  {
   "cell_type": "code",
   "execution_count": 14,
   "metadata": {
    "collapsed": false
   },
   "outputs": [
    {
     "data": {
      "text/plain": [
       "['_view_name',\n",
       " 'orientation',\n",
       " 'color',\n",
       " '_view_module',\n",
       " 'height',\n",
       " 'disabled',\n",
       " 'visible',\n",
       " 'border_radius',\n",
       " 'border_width',\n",
       " '_model_module',\n",
       " 'font_style',\n",
       " 'min',\n",
       " '_range',\n",
       " 'background_color',\n",
       " 'slider_color',\n",
       " 'width',\n",
       " 'version',\n",
       " 'continuous_update',\n",
       " 'font_family',\n",
       " '_dom_classes',\n",
       " 'description',\n",
       " '_model_name',\n",
       " 'max',\n",
       " 'border_color',\n",
       " 'readout',\n",
       " 'padding',\n",
       " 'font_weight',\n",
       " 'step',\n",
       " 'border_style',\n",
       " 'font_size',\n",
       " 'msg_throttle',\n",
       " '_css',\n",
       " 'value',\n",
       " 'margin']"
      ]
     },
     "execution_count": 14,
     "metadata": {},
     "output_type": "execute_result"
    }
   ],
   "source": [
    "w.keys"
   ]
  },
  {
   "cell_type": "code",
   "execution_count": 15,
   "metadata": {
    "collapsed": true
   },
   "outputs": [],
   "source": [
    "#You can set the initial value of widget properties by \n",
    "#defining them as keyword arguments in the widget constructor...\n",
    "Text(value='Hello world!', disabled=True)\n",
    "#Text is just a textbox widget...\n",
    "#If disabled=True, we can no longer edit them interactively"
   ]
  },
  {
   "cell_type": "code",
   "execution_count": 16,
   "metadata": {
    "collapsed": true
   },
   "outputs": [],
   "source": [
    "#How can we link two widgets?\n",
    "\n",
    "from traitlets import link\n",
    "a= FloatText()\n",
    "b= FloatSlider()\n",
    "\n",
    "display(a,b)\n",
    "\n",
    "mylink = link( (a, 'value'), (b, 'value') )\n",
    "#Set what you want to link. Here, we wanted to link the value."
   ]
  },
  {
   "cell_type": "code",
   "execution_count": null,
   "metadata": {
    "collapsed": true
   },
   "outputs": [],
   "source": []
  },
  {
   "cell_type": "code",
   "execution_count": 17,
   "metadata": {
    "collapsed": true
   },
   "outputs": [],
   "source": [
    "#Section 12.4 Widget Events"
   ]
  },
  {
   "cell_type": "code",
   "execution_count": 18,
   "metadata": {
    "collapsed": true
   },
   "outputs": [],
   "source": [
    "#Widget events can be something like a button click"
   ]
  },
  {
   "cell_type": "code",
   "execution_count": 19,
   "metadata": {
    "collapsed": true
   },
   "outputs": [],
   "source": [
    "from __future__ import print_function\n",
    "import ipywidgets as widgets"
   ]
  },
  {
   "cell_type": "code",
   "execution_count": 20,
   "metadata": {
    "collapsed": false
   },
   "outputs": [
    {
     "name": "stdout",
     "output_type": "stream",
     "text": [
      "Register a callback to execute when the button is clicked.\n",
      "\n",
      "        The callback will be called with one argument,\n",
      "        the clicked button widget instance.\n",
      "\n",
      "        Parameters\n",
      "        ----------\n",
      "        remove : bool (optional)\n",
      "            Set to true to remove the callback from the list of callbacks.\n"
     ]
    }
   ],
   "source": [
    "#The button widget is not used to represent an actual data \n",
    "#type, instead the button widget is used to handle mouse clicks.\n",
    "#It then has an \"onclick\" function that can call things whenever\n",
    "#the button is clicked.\n",
    "\n",
    "print(widgets.Button.on_click.__doc__)"
   ]
  },
  {
   "cell_type": "code",
   "execution_count": 21,
   "metadata": {
    "collapsed": true
   },
   "outputs": [],
   "source": [
    "#Buttons are tranferred from the front end (what we see) to the\n",
    "#back end using custon messages.\n",
    "#Example:\n",
    "from IPython.display import display\n",
    "\n"
   ]
  },
  {
   "cell_type": "code",
   "execution_count": 23,
   "metadata": {
    "collapsed": false
   },
   "outputs": [
    {
     "name": "stdout",
     "output_type": "stream",
     "text": [
      "Button has been clicked\n"
     ]
    }
   ],
   "source": [
    "button1 = widgets.Button(description=\"Click Me!\")\n",
    "#So this creates a variable to be a widget button\n",
    "display(button1)\n",
    "#Displays that variable\n",
    "\n",
    "\n",
    "def buttonclicked1(b):\n",
    "    print(\"Button has been clicked\")\n",
    "#A function that, when called, will print that.\n",
    "    \n",
    "button1.on_click(buttonclicked1)\n",
    "#when the button is clikced, we want that function to run."
   ]
  },
  {
   "cell_type": "code",
   "execution_count": 25,
   "metadata": {
    "collapsed": false
   },
   "outputs": [
    {
     "name": "stdout",
     "output_type": "stream",
     "text": [
      "nikc\n",
      "poop\n",
      "big\n"
     ]
    }
   ],
   "source": [
    "text = widgets.Text()\n",
    "display(text)\n",
    "\n",
    "def handle_submit(sender):\n",
    "    print(text.value)\n",
    "    \n",
    "text.on_submit(handle_submit)\n",
    "#the on_submit function will run whenever a user presses\n",
    "#return/enter on a keyboard"
   ]
  },
  {
   "cell_type": "code",
   "execution_count": null,
   "metadata": {
    "collapsed": true
   },
   "outputs": [],
   "source": []
  },
  {
   "cell_type": "code",
   "execution_count": null,
   "metadata": {
    "collapsed": true
   },
   "outputs": [],
   "source": []
  },
  {
   "cell_type": "code",
   "execution_count": 26,
   "metadata": {
    "collapsed": false
   },
   "outputs": [
    {
     "name": "stdout",
     "output_type": "stream",
     "text": [
      "DEPRECATED: Setup a handler to be called when a trait changes.\n",
      "\n",
      "        This is used to setup dynamic notifications of trait changes.\n",
      "\n",
      "        Static handlers can be created by creating methods on a HasTraits\n",
      "        subclass with the naming convention '_[traitname]_changed'.  Thus,\n",
      "        to create static handler for the trait 'a', create the method\n",
      "        _a_changed(self, name, old, new) (fewer arguments can be used, see\n",
      "        below).\n",
      "\n",
      "        If `remove` is True and `handler` is not specified, all change\n",
      "        handlers for the specified name are uninstalled.\n",
      "\n",
      "        Parameters\n",
      "        ----------\n",
      "        handler : callable, None\n",
      "            A callable that is called when a trait changes.  Its\n",
      "            signature can be handler(), handler(name), handler(name, new),\n",
      "            handler(name, old, new), or handler(name, old, new, self).\n",
      "        name : list, str, None\n",
      "            If None, the handler will apply to all traits.  If a list\n",
      "            of str, handler will apply to all names in the list.  If a\n",
      "            str, the handler will apply just to that name.\n",
      "        remove : bool\n",
      "            If False (the default), then install the handler.  If True\n",
      "            then unintall it.\n",
      "        \n"
     ]
    }
   ],
   "source": [
    "#Traitlet events:\n",
    "print(widgets.Widget.on_trait_change.__doc__)"
   ]
  },
  {
   "cell_type": "code",
   "execution_count": 30,
   "metadata": {
    "collapsed": false
   },
   "outputs": [
    {
     "name": "stderr",
     "output_type": "stream",
     "text": [
      "/Users/nweimer/anaconda/lib/python2.7/site-packages/ipykernel/__main__.py:8: DeprecationWarning: on_trait_change is deprecated: use observe instead\n"
     ]
    },
    {
     "name": "stdout",
     "output_type": "stream",
     "text": [
      "1\n",
      "2\n",
      "3\n",
      "4\n",
      "5\n",
      "4\n",
      "3\n",
      "2\n"
     ]
    }
   ],
   "source": [
    "int_range = widgets.IntSlider()\n",
    "\n",
    "display(int_range)\n",
    "\n",
    "def on_value_change(name, value):\n",
    "    print(value)\n",
    "    \n",
    "int_range.on_trait_change(on_value_change, 'value')\n",
    "#So we are passing the function of on_value_change with a new argument\n",
    "#of \"value\" every time that value gets changed."
   ]
  },
  {
   "cell_type": "code",
   "execution_count": 31,
   "metadata": {
    "collapsed": true
   },
   "outputs": [],
   "source": [
    "#How to link widget attributes (happens server-side):\n",
    "\n",
    "import traitlets\n",
    "\n",
    "# Create Caption\n",
    "caption = widgets.Latex(value = 'The values of slider1 and slider2 are synchronized')\n",
    "#Letex is a way of writing out mathematical equations...but here we are just\n",
    "#using it with text.\n",
    "\n",
    "# Create IntSlider\n",
    "slider1 = widgets.IntSlider(description='Slider 1')\n",
    "slider2 =  widgets.IntSlider(description='Slider 2')\n",
    "\n",
    "# Use trailets to link\n",
    "l = traitlets.link((slider1, 'value'), (slider2, 'value'))\n",
    "\n",
    "# Display!\n",
    "display(caption, slider1, slider2)\n",
    "\n"
   ]
  },
  {
   "cell_type": "code",
   "execution_count": 32,
   "metadata": {
    "collapsed": true
   },
   "outputs": [],
   "source": [
    "\n",
    "\n",
    "# Create Caption\n",
    "caption = widgets.Latex(value = 'Changes in source values are reflected in target1')\n",
    "\n",
    "# Create Sliders\n",
    "source = widgets.IntSlider(description='Source')\n",
    "target1 = widgets.IntSlider(description='Target 1')\n",
    "\n",
    "# Use dlink\n",
    "dl = traitlets.dlink((source, 'value'), (target1, 'value'))\n",
    "display(caption, source, target1)\n",
    "\n",
    "#Only one affects the other now...since we used dlink"
   ]
  },
  {
   "cell_type": "code",
   "execution_count": 33,
   "metadata": {
    "collapsed": true
   },
   "outputs": [],
   "source": [
    "#As you can tell by ones that are linked above, there is a little\n",
    "#lag between the two. Get rid of this by using .jslink or .jsdlink which\n",
    "#will directly call javascript to link the widgets in the browser as\n",
    "#opposed to going from front-end to back-end and back to front-end.\n",
    "#Jupyter notebook uses javascript to produce these widgets."
   ]
  },
  {
   "cell_type": "code",
   "execution_count": 37,
   "metadata": {
    "collapsed": false
   },
   "outputs": [],
   "source": [
    "# NO LAG VERSION\n",
    "caption = widgets.Latex(value = 'The values of range1 and range2 are synchronized')\n",
    "\n",
    "range1 = widgets.IntSlider(description='Range 1')\n",
    "range2 =  widgets.IntSlider(description='Range 2')\n",
    "\n",
    "l = widgets.jslink((range1, 'value'), (range2, 'value'))\n",
    "display(caption, range1, range2)\n"
   ]
  },
  {
   "cell_type": "code",
   "execution_count": 38,
   "metadata": {
    "collapsed": true
   },
   "outputs": [],
   "source": [
    "#Unlink widgets by calling the unlink method:\n",
    "l.unlink()"
   ]
  },
  {
   "cell_type": "code",
   "execution_count": null,
   "metadata": {
    "collapsed": true
   },
   "outputs": [],
   "source": []
  }
 ],
 "metadata": {
  "kernelspec": {
   "display_name": "Python 2",
   "language": "python",
   "name": "python2"
  },
  "language_info": {
   "codemirror_mode": {
    "name": "ipython",
    "version": 2
   },
   "file_extension": ".py",
   "mimetype": "text/x-python",
   "name": "python",
   "nbconvert_exporter": "python",
   "pygments_lexer": "ipython2",
   "version": "2.7.11"
  }
 },
 "nbformat": 4,
 "nbformat_minor": 0
}
