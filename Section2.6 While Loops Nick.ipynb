{
 "cells": [
  {
   "cell_type": "code",
   "execution_count": 1,
   "metadata": {
    "collapsed": true
   },
   "outputs": [],
   "source": [
    "#The while statement in Python is one of the most\n",
    "#general ways to perform iteration. It will\n",
    "#repeatedly execute a single statement or group\n",
    "#of statements until a true value occurs\n",
    "\n",
    "#Reason it is called a loop is because the code\n",
    "#statements are looped through over and over\n",
    "#again until the condition is met\n",
    "\n",
    "#general format:\n",
    "\n",
    "#while (testcondition):\n",
    "    #code statement\n",
    "#else:\n",
    "    #final code statements"
   ]
  },
  {
   "cell_type": "code",
   "execution_count": 2,
   "metadata": {
    "collapsed": false
   },
   "outputs": [
    {
     "name": "stdout",
     "output_type": "stream",
     "text": [
      "x is currently... 0\n",
      "x is currently... 1\n",
      "x is currently... 2\n",
      "x is currently... 3\n",
      "x is currently... 4\n",
      "x is currently... 5\n",
      "x is currently... 6\n",
      "x is currently... 7\n",
      "x is currently... 8\n",
      "x is currently... 9\n"
     ]
    }
   ],
   "source": [
    "#x=0\n",
    "\n",
    "#while x<10:\n",
    "#    print \"hello!\"\n",
    "\n",
    "#This code loop would go on forever \n",
    "#since x is always\n",
    "#less than 10 and nothing is affecting x\n",
    "\n",
    "x=0\n",
    "while x<10:\n",
    "    print \"x is currently...\", x\n",
    "    x +=1\n",
    "    #or could have put x = x+1\n",
    "\n",
    "\n"
   ]
  },
  {
   "cell_type": "code",
   "execution_count": 14,
   "metadata": {
    "collapsed": false
   },
   "outputs": [
    {
     "name": "stdout",
     "output_type": "stream",
     "text": [
      "x is currently: 0\n",
      "x is currently: 1\n",
      "x is currently: 2\n",
      "x is currently: 3\n",
      "x is currently: 4\n",
      "x is currently: 5\n",
      "x is currently: 6\n",
      "x is currently: 7\n",
      "x is currently: 8\n",
      "x is currently: 9\n",
      "all done!\n"
     ]
    }
   ],
   "source": [
    "x=0\n",
    "\n",
    "while x<10:\n",
    "    print \"x is currently:\", x\n",
    "    x= x+1\n",
    "else:\n",
    "    print \"all done!\"\n"
   ]
  },
  {
   "cell_type": "code",
   "execution_count": 6,
   "metadata": {
    "collapsed": true
   },
   "outputs": [],
   "source": [
    "#Break, Continue, Pass\n",
    "\n",
    "#We can use break, continue, and pass statements in our loops\n",
    "#to add additional functionality for various cases.\n",
    "\n",
    "#The 3 statements are defined:\n",
    "#Break- breaks out of the current closest enclosing loop\n",
    "#Continue- Goes to the top of the closest enclosing loop\n",
    "#Pass- Does nothing at all"
   ]
  },
  {
   "cell_type": "code",
   "execution_count": 6,
   "metadata": {
    "collapsed": true
   },
   "outputs": [],
   "source": [
    "#The general format:\n",
    "\n",
    "#While (test condition):\n",
    "    #code statement\n",
    "    #if (test condition):\n",
    "        #break\n",
    "    #if (test condition):\n",
    "        #continue\n",
    "#else:\n",
    "    #code statement\n",
    "    "
   ]
  },
  {
   "cell_type": "code",
   "execution_count": 19,
   "metadata": {
    "collapsed": false
   },
   "outputs": [
    {
     "name": "stdout",
     "output_type": "stream",
     "text": [
      "x is currently: 0\n",
      "continuing...\n",
      "x is currently: 1\n",
      "continuing...\n",
      "x is currently: 2\n",
      "Hey x equals 3!\n",
      "x is currently: 3\n",
      "continuing...\n",
      "x is currently: 4\n",
      "continuing...\n",
      "x is currently: 5\n",
      "continuing...\n",
      "x is currently: 6\n",
      "continuing...\n",
      "x is currently: 7\n",
      "continuing...\n",
      "x is currently: 8\n",
      "continuing...\n",
      "x is currently: 9\n",
      "continuing...\n"
     ]
    }
   ],
   "source": [
    "x=0\n",
    "\n",
    "while x<10:\n",
    "    print \"x is currently:\", x\n",
    "    x= x+1\n",
    "\n",
    "    if x==3:\n",
    "        print \"Hey x equals 3!\"\n",
    "    else:\n",
    "        print \"continuing...\"\n",
    "    "
   ]
  },
  {
   "cell_type": "code",
   "execution_count": 22,
   "metadata": {
    "collapsed": false
   },
   "outputs": [
    {
     "name": "stdout",
     "output_type": "stream",
     "text": [
      "x is currently: 0\n",
      "continuing...\n",
      "x is currently: 1\n",
      "continuing...\n",
      "x is currently: 2\n",
      "Hey x equals 3!\n"
     ]
    }
   ],
   "source": [
    "x=0\n",
    "\n",
    "while x<10:\n",
    "    print \"x is currently:\", x\n",
    "    x= x+1\n",
    "\n",
    "    if x==3:\n",
    "        print \"Hey x equals 3!\"\n",
    "        break\n",
    "    #so it broke out of this loop now\n",
    "    else:\n",
    "        print \"continuing...\"\n",
    "        #He originally had 'continue' here but it isnt necessary"
   ]
  },
  {
   "cell_type": "code",
   "execution_count": 11,
   "metadata": {
    "collapsed": true
   },
   "outputs": [],
   "source": [
    "#NOTE: If you have someting that is always true, you can\n",
    "#run into a loop that is continuously running\n",
    "#The computer will stop eventually, but you dont want this\n",
    "#to happen.\n"
   ]
  },
  {
   "cell_type": "code",
   "execution_count": null,
   "metadata": {
    "collapsed": true
   },
   "outputs": [],
   "source": []
  }
 ],
 "metadata": {
  "kernelspec": {
   "display_name": "Python 2",
   "language": "python",
   "name": "python2"
  },
  "language_info": {
   "codemirror_mode": {
    "name": "ipython",
    "version": 2
   },
   "file_extension": ".py",
   "mimetype": "text/x-python",
   "name": "python",
   "nbconvert_exporter": "python",
   "pygments_lexer": "ipython2",
   "version": "2.7.11"
  }
 },
 "nbformat": 4,
 "nbformat_minor": 0
}
