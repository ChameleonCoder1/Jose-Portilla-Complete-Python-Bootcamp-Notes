{
 "cells": [
  {
   "cell_type": "code",
   "execution_count": 1,
   "metadata": {
    "collapsed": true
   },
   "outputs": [],
   "source": [
    "#Methods are essentially functions built into objects.\n",
    "#Later on in the course we will learn about how to create our\n",
    "#own objects and methods using Object Oriented Programming(OOP)\n",
    "#and classes.\n",
    "#Methods will perform specific actions on the object and can \n",
    "#also take arguments, just like a function. This lecture will\n",
    "#serve as just a brief intro to methods and get you\n",
    "#thinking about overall design methods that we will touch back\n",
    "#upon when we reach OOP in the course.\n",
    "\n",
    "#Methods are in the form:\n",
    "\n",
    "# object.method(argument1, argument2, argument3,...etc.)\n",
    "\n",
    "#We've already used methods previously in this course,\n",
    "#we are now formalizing what a method is.\n",
    "\n",
    "#You'll later see that we can think of mehtods as having an\n",
    "#argument 'self' referring to the object itself."
   ]
  },
  {
   "cell_type": "code",
   "execution_count": 2,
   "metadata": {
    "collapsed": true
   },
   "outputs": [],
   "source": [
    " l=[1,2,3,4,5]\n",
    "    "
   ]
  },
  {
   "cell_type": "code",
   "execution_count": 4,
   "metadata": {
    "collapsed": false
   },
   "outputs": [
    {
     "data": {
      "text/plain": [
       "[1, 2, 3, 4, 5, 6, 6]"
      ]
     },
     "execution_count": 4,
     "metadata": {},
     "output_type": "execute_result"
    }
   ],
   "source": [
    "l.append(6)\n",
    "\n",
    "l"
   ]
  },
  {
   "cell_type": "code",
   "execution_count": 5,
   "metadata": {
    "collapsed": false
   },
   "outputs": [
    {
     "data": {
      "text/plain": [
       "[1, 2, 3, 4, 5, 6, 6]"
      ]
     },
     "execution_count": 5,
     "metadata": {},
     "output_type": "execute_result"
    }
   ],
   "source": [
    "l"
   ]
  },
  {
   "cell_type": "code",
   "execution_count": 6,
   "metadata": {
    "collapsed": false
   },
   "outputs": [
    {
     "name": "stdout",
     "output_type": "stream",
     "text": [
      "Help on built-in function count:\n",
      "\n",
      "count(...)\n",
      "    L.count(value) -> integer -- return number of occurrences of value\n",
      "\n"
     ]
    }
   ],
   "source": [
    "help(l.count)"
   ]
  },
  {
   "cell_type": "code",
   "execution_count": 7,
   "metadata": {
    "collapsed": true
   },
   "outputs": [],
   "source": [
    "#Or, if working in ipython jupyter notebooks (which this is),\n",
    "#could press tab before typing in a method...from\n",
    "#that list of methods that pops up press the one\n",
    "#you are interested in, then shift+tab for a description"
   ]
  },
  {
   "cell_type": "code",
   "execution_count": 8,
   "metadata": {
    "collapsed": true
   },
   "outputs": [],
   "source": [
    "\n",
    "\n",
    "\n",
    "\n",
    "\n",
    "#FUNCTIONS.....\n",
    "\n",
    "#A Function is a useful device that groups together a set of\n",
    "#statements so they can be run more than once.\n",
    "#They can also let us specify parameters that can serve as\n",
    "#inputs to the functions.\n",
    "\n",
    "#We dealt with functions such as len().. length function.. or\n",
    "#range() function"
   ]
  },
  {
   "cell_type": "code",
   "execution_count": 9,
   "metadata": {
    "collapsed": true
   },
   "outputs": [],
   "source": [
    "#On a more fundamental leve, functions allow us to not have to\n",
    "#repeatedly write the same code again and again\n"
   ]
  },
  {
   "cell_type": "code",
   "execution_count": 10,
   "metadata": {
    "collapsed": true
   },
   "outputs": [],
   "source": [
    "#def Statements\n",
    "\n",
    "#def is a built-in keyword telling Python you are about to\n",
    "#create a function"
   ]
  },
  {
   "cell_type": "code",
   "execution_count": 11,
   "metadata": {
    "collapsed": true
   },
   "outputs": [],
   "source": [
    "def name_ofmy_functionnn():\n",
    "    \n",
    "    pass\n"
   ]
  },
  {
   "cell_type": "code",
   "execution_count": 12,
   "metadata": {
    "collapsed": true
   },
   "outputs": [],
   "source": [
    "#you don't want to call a function the same name as a built-in\n",
    "#Python function. Here are the built-in python functions:"
   ]
  },
  {
   "cell_type": "code",
   "execution_count": 13,
   "metadata": {
    "collapsed": true
   },
   "outputs": [],
   "source": [
    "#https://docs.python.org/2/library/functions.html"
   ]
  },
  {
   "cell_type": "code",
   "execution_count": 14,
   "metadata": {
    "collapsed": true
   },
   "outputs": [],
   "source": [
    "def name_ofmy_functionnn(arg1, arg2):\n",
    "    pass\n"
   ]
  },
  {
   "cell_type": "code",
   "execution_count": 17,
   "metadata": {
    "collapsed": false
   },
   "outputs": [],
   "source": [
    "name_ofmy_functionnn(1,2)"
   ]
  },
  {
   "cell_type": "code",
   "execution_count": 18,
   "metadata": {
    "collapsed": true
   },
   "outputs": [],
   "source": [
    "#See that we needed 2 arguments for it to work. This function\n",
    "#worked (no error) but it did not actually perform anything\n",
    "#since the function was nothing"
   ]
  },
  {
   "cell_type": "code",
   "execution_count": 19,
   "metadata": {
    "collapsed": true
   },
   "outputs": [],
   "source": [
    "def name_ofmy_functionnn(arg1, arg2):\n",
    "    print arg1+arg2\n",
    "\n",
    "    #got rid of pass now since we want it to perform something\n",
    "\n"
   ]
  },
  {
   "cell_type": "code",
   "execution_count": 20,
   "metadata": {
    "collapsed": false
   },
   "outputs": [
    {
     "name": "stdout",
     "output_type": "stream",
     "text": [
      "3\n"
     ]
    }
   ],
   "source": [
    "name_ofmy_functionnn(1,2)"
   ]
  },
  {
   "cell_type": "code",
   "execution_count": 11,
   "metadata": {
    "collapsed": true
   },
   "outputs": [],
   "source": [
    "#When we type in a function and then press shift+tab,\n",
    "#a doc-string come up (description)....to add a doc-string\n",
    "#for functions that we create, create a comment in quotes:\n",
    "\n",
    "def name_ofmy_functionnn(arg1, arg2):\n",
    "    \"\"\"\n",
    "    here is my docstring!\n",
    "    \"\"\"\n",
    "    print arg1+arg2\n"
   ]
  },
  {
   "cell_type": "code",
   "execution_count": 22,
   "metadata": {
    "collapsed": true
   },
   "outputs": [],
   "source": [
    "def yoyo():\n",
    "    print 'Wassup'"
   ]
  },
  {
   "cell_type": "code",
   "execution_count": 23,
   "metadata": {
    "collapsed": false
   },
   "outputs": [
    {
     "name": "stdout",
     "output_type": "stream",
     "text": [
      "Wassup\n"
     ]
    }
   ],
   "source": [
    "yoyo()"
   ]
  },
  {
   "cell_type": "code",
   "execution_count": 24,
   "metadata": {
    "collapsed": true
   },
   "outputs": [],
   "source": [
    "def greet(name):\n",
    "    print 'Wassup'+name"
   ]
  },
  {
   "cell_type": "code",
   "execution_count": 27,
   "metadata": {
    "collapsed": false
   },
   "outputs": [
    {
     "name": "stdout",
     "output_type": "stream",
     "text": [
      "Wassup Caro\n"
     ]
    }
   ],
   "source": [
    "greet(\" Caro\")"
   ]
  },
  {
   "cell_type": "code",
   "execution_count": 7,
   "metadata": {
    "collapsed": true
   },
   "outputs": [],
   "source": [
    "def add_num(num1,num2):\n",
    "    return num1+num2\n",
    "\n",
    "#return statement returns whatever is before it, then that can\n",
    "#be used as a variable. If we used print, it cant be set as a variable\n"
   ]
  },
  {
   "cell_type": "code",
   "execution_count": 8,
   "metadata": {
    "collapsed": false
   },
   "outputs": [],
   "source": [
    "x=add_num(2,3)"
   ]
  },
  {
   "cell_type": "code",
   "execution_count": 10,
   "metadata": {
    "collapsed": false
   },
   "outputs": [
    {
     "data": {
      "text/plain": [
       "5"
      ]
     },
     "execution_count": 10,
     "metadata": {},
     "output_type": "execute_result"
    }
   ],
   "source": [
    "x"
   ]
  },
  {
   "cell_type": "code",
   "execution_count": 31,
   "metadata": {
    "collapsed": false
   },
   "outputs": [
    {
     "data": {
      "text/plain": [
       "5"
      ]
     },
     "execution_count": 31,
     "metadata": {},
     "output_type": "execute_result"
    }
   ],
   "source": [
    "add_num(2,3)"
   ]
  },
  {
   "cell_type": "code",
   "execution_count": 32,
   "metadata": {
    "collapsed": false
   },
   "outputs": [
    {
     "data": {
      "text/plain": [
       "'onetwo'"
      ]
     },
     "execution_count": 32,
     "metadata": {},
     "output_type": "execute_result"
    }
   ],
   "source": [
    "add_num('one','two')"
   ]
  },
  {
   "cell_type": "code",
   "execution_count": 33,
   "metadata": {
    "collapsed": true
   },
   "outputs": [],
   "source": [
    "#^This occurs because we don't declare variable types in\n",
    "#python like we usually would in other languages"
   ]
  },
  {
   "cell_type": "code",
   "execution_count": 15,
   "metadata": {
    "collapsed": false
   },
   "outputs": [
    {
     "name": "stdout",
     "output_type": "stream",
     "text": [
      "ab\n",
      "\n",
      "None\n"
     ]
    }
   ],
   "source": [
    "x=name_ofmy_functionnn(\"a\",\"b\")\n",
    "\n",
    "print \"\"\n",
    "print x"
   ]
  },
  {
   "cell_type": "code",
   "execution_count": 44,
   "metadata": {
    "collapsed": false
   },
   "outputs": [],
   "source": [
    "\n",
    "\n",
    "def is_prime(num):\n",
    "    \"\"\"\n",
    "    Checks if a number is prime\n",
    "    \"\"\"\n",
    "    \n",
    "    for n in range(2, num):\n",
    "        if num % n==0:\n",
    "            print 'Not Prime'\n",
    "            break\n",
    "    #Saying...for every element (n) in a range 2 up to but not\n",
    "    #including the element \"num\", If diving the element\"num\"\n",
    "    #by any of those elements (n) leaves a remainer 0, then\n",
    "    #print \"Not Prime\"\n",
    "        else:\n",
    "            print \"What a dime, it's a Prime!!!\"\n",
    "        \n",
    "    #If that is not true, print \"what a dime...\""
   ]
  },
  {
   "cell_type": "code",
   "execution_count": 45,
   "metadata": {
    "collapsed": false
   },
   "outputs": [
    {
     "name": "stdout",
     "output_type": "stream",
     "text": [
      "What a dime, it's a Prime!!!\n",
      "What a dime, it's a Prime!!!\n",
      "What a dime, it's a Prime!!!\n",
      "What a dime, it's a Prime!!!\n",
      "What a dime, it's a Prime!!!\n"
     ]
    }
   ],
   "source": [
    "is_prime(7)"
   ]
  },
  {
   "cell_type": "code",
   "execution_count": 49,
   "metadata": {
    "collapsed": false
   },
   "outputs": [],
   "source": [
    "def is_prime(num):\n",
    "    \"\"\"\n",
    "    Checks if a number is prime\n",
    "    \"\"\"\n",
    "    \n",
    "    for n in range(2, num):\n",
    "        if num % n==0:\n",
    "            print 'Not Prime'\n",
    "            break \n",
    "    else:\n",
    "            print \"What a dime, it's a Prime!!!\"\n",
    "        \n",
    "    #Notice that putting the else statement an indent to the\n",
    "    #to the right... as we did first... prints \"what a dime...\"\n",
    "    #for each time that for loop is run on an element (for\n",
    "    #2, 3, 4, 5, and 6 above)"
   ]
  },
  {
   "cell_type": "code",
   "execution_count": 50,
   "metadata": {
    "collapsed": false
   },
   "outputs": [
    {
     "name": "stdout",
     "output_type": "stream",
     "text": [
      "What a dime, it's a Prime!!!\n"
     ]
    }
   ],
   "source": [
    "is_prime(7)"
   ]
  },
  {
   "cell_type": "code",
   "execution_count": null,
   "metadata": {
    "collapsed": true
   },
   "outputs": [],
   "source": []
  }
 ],
 "metadata": {
  "kernelspec": {
   "display_name": "Python 2",
   "language": "python",
   "name": "python2"
  },
  "language_info": {
   "codemirror_mode": {
    "name": "ipython",
    "version": 2
   },
   "file_extension": ".py",
   "mimetype": "text/x-python",
   "name": "python",
   "nbconvert_exporter": "python",
   "pygments_lexer": "ipython2",
   "version": "2.7.11"
  }
 },
 "nbformat": 4,
 "nbformat_minor": 0
}
