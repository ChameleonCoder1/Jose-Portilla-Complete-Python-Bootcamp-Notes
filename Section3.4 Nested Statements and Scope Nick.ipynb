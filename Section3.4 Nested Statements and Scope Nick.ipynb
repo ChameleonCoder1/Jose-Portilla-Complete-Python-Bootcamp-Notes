{
 "cells": [
  {
   "cell_type": "code",
   "execution_count": 1,
   "metadata": {
    "collapsed": true
   },
   "outputs": [],
   "source": [
    "#So we learned how to make our own functions with lambda \n",
    "#expressions and def function, but now we are going to learn\n",
    "#how python deals with the variable names we actually assign to these.\n",
    "\n",
    "#When you create a variable name in Python, the name is stored\n",
    "#in a NAMESPACE.\n"
   ]
  },
  {
   "cell_type": "code",
   "execution_count": 2,
   "metadata": {
    "collapsed": false
   },
   "outputs": [
    {
     "name": "stdout",
     "output_type": "stream",
     "text": [
      "25\n",
      "50\n"
     ]
    }
   ],
   "source": [
    "#Varible names also have a SCOPE. The scope determines the visibility\n",
    "#of that variable name to other parts of your code\n",
    "\n",
    "#for instance\n",
    "\n",
    "x=25\n",
    "\n",
    "def printer():\n",
    "    x=50\n",
    "    return x\n",
    "print x\n",
    "print printer()\n",
    "\n",
    "#What do you imagine the output of printer() is? 25 or 50?\n",
    "#What do you imagine the output of print x? 25 or 50?\n",
    "\n"
   ]
  },
  {
   "cell_type": "code",
   "execution_count": 6,
   "metadata": {
    "collapsed": false
   },
   "outputs": [
    {
     "name": "stdout",
     "output_type": "stream",
     "text": [
      "50\n"
     ]
    }
   ],
   "source": [
    "print printer()"
   ]
  },
  {
   "cell_type": "code",
   "execution_count": 5,
   "metadata": {
    "collapsed": false
   },
   "outputs": [
    {
     "name": "stdout",
     "output_type": "stream",
     "text": [
      "25\n"
     ]
    }
   ],
   "source": [
    "print x"
   ]
  },
  {
   "cell_type": "code",
   "execution_count": 7,
   "metadata": {
    "collapsed": true
   },
   "outputs": [],
   "source": [
    "#So we have 2 x's here...one for the printer function and one\n",
    "#on a more global scale"
   ]
  },
  {
   "cell_type": "code",
   "execution_count": 8,
   "metadata": {
    "collapsed": true
   },
   "outputs": [],
   "source": [
    "#So how does Python know what x to refer to in your code? It's\n",
    "#because of scope\n",
    "\n",
    "#What are the rules it uses to do so?\n",
    "\n",
    "#NAME ASSIGNMENT will create or change local names by default.\n",
    "#Name references search (at most) four scopes, these are:\n",
    "#- Local\n",
    "#- Enclosing functions\n",
    "#- Global\n",
    "#- Built-in\n"
   ]
  },
  {
   "cell_type": "code",
   "execution_count": 9,
   "metadata": {
    "collapsed": true
   },
   "outputs": [],
   "source": [
    "#Local scopes\n",
    "    #Names assigned in a way within a funciton (def or lambda),\n",
    "    #and not declared global in that function\n",
    "    \n",
    "    #For instance, that x=50 in the above function\n",
    "    \n",
    "#Enclosing function locals\n",
    "    #Name in the local scope of any and all enclosing \n",
    "    #functions (def or lambda), from inner to outer\n",
    "    \n",
    "    \n",
    "#Global (module)\n",
    "    #Names assigned at the top-level of a module file, or declared\n",
    "    #global in a def within the file\n",
    "    \n",
    "#Built-in (Python)\n",
    "    #Names preassigned in the built-in names module: open, \n",
    "    #range,SyntaxError,....\n",
    "    \n",
    "    "
   ]
  },
  {
   "cell_type": "code",
   "execution_count": 10,
   "metadata": {
    "collapsed": true
   },
   "outputs": [],
   "source": [
    "#x is Local here\n",
    "\n",
    "f= lambda x:x**2"
   ]
  },
  {
   "cell_type": "code",
   "execution_count": 3,
   "metadata": {
    "collapsed": false
   },
   "outputs": [
    {
     "name": "stdout",
     "output_type": "stream",
     "text": [
      "Hello Mr. McGavin\n"
     ]
    }
   ],
   "source": [
    "#name='Sammy' is an enclosed local here\n",
    "\n",
    "name=\"Shooter\"\n",
    "\n",
    "def greet():\n",
    "    #Enclosing function\n",
    "    name=\"Mr. McGavin\"\n",
    "    \n",
    "    def hello():\n",
    "        print 'Hello ' + name\n",
    "    \n",
    "    hello()\n",
    "\n",
    "greet()"
   ]
  },
  {
   "cell_type": "code",
   "execution_count": 13,
   "metadata": {
    "collapsed": true
   },
   "outputs": [],
   "source": [
    "#^So Python worked inside out starting with the hello(),\n",
    "#which is defined in the def hello\n",
    "#function. Wanted to print \"Hello \" + name. Looked for a name\n",
    "#definition within that local scope of def hello()....didn't \n",
    "#find any so it went to the def greet() function, which is\n",
    "#the enclosing function here. Name is defined here as\n",
    "#Mr. McGavin. So now that it has found it, it uses it. It\n",
    "#won't go all the way out to the global scope of \"Shooter\"\n",
    "#because it has found it already in the enclosing function"
   ]
  },
  {
   "cell_type": "code",
   "execution_count": 14,
   "metadata": {
    "collapsed": false
   },
   "outputs": [
    {
     "name": "stdout",
     "output_type": "stream",
     "text": [
      "Shooter\n"
     ]
    }
   ],
   "source": [
    "print name"
   ]
  },
  {
   "cell_type": "code",
   "execution_count": 15,
   "metadata": {
    "collapsed": true
   },
   "outputs": [],
   "source": [
    "#^Since we defined it earlier outside of any function (global\n",
    "#name), it uses this definition of name"
   ]
  },
  {
   "cell_type": "code",
   "execution_count": 16,
   "metadata": {
    "collapsed": true
   },
   "outputs": [],
   "source": [
    "#Built-in names are all of the names of\n",
    "#functions that are already used in the python, like len().\n",
    "#Be careful not to overwrite these.\n"
   ]
  },
  {
   "cell_type": "code",
   "execution_count": 17,
   "metadata": {
    "collapsed": true
   },
   "outputs": [],
   "source": [
    "#NOTE: As we have seen, when you declare variables inside \n",
    "#a function definition, they are not related in any way to\n",
    "#other variables with the same names used outside the function-\n",
    "#i.e. variable names are LOCAL TO THE FUNCTION\n",
    "#This is called the scope of the variable. All variables\n",
    "#have the scope of the block they are declared in (starting\n",
    "#from the point of definition in the name)."
   ]
  },
  {
   "cell_type": "code",
   "execution_count": 21,
   "metadata": {
    "collapsed": false
   },
   "outputs": [
    {
     "name": "stdout",
     "output_type": "stream",
     "text": [
      "x is 50\n",
      "Changed local x to 2\n",
      "x is still 50\n"
     ]
    }
   ],
   "source": [
    "x=50\n",
    "\n",
    "def func(x):\n",
    "    print 'x is', x\n",
    "    x=2\n",
    "    print 'Changed local x to', x\n",
    "    \n",
    "func(x)\n",
    "#^That caused the func() function to run and print the\n",
    "#first two lines\n",
    "\n",
    "print 'x is still', x\n",
    "#^That causes the last line to print"
   ]
  },
  {
   "cell_type": "code",
   "execution_count": 19,
   "metadata": {
    "collapsed": true
   },
   "outputs": [],
   "source": [
    "#Global statement:\n",
    "#If you want to assign a value to a name defined at the \n",
    "#top level of the program (i.e. not inside any kind of\n",
    "#scope such as functions or classes), then you have to tell\n",
    "#Python that the name is not local, but it is global\n",
    "\n",
    "#We do this using the global statement.\n"
   ]
  },
  {
   "cell_type": "code",
   "execution_count": 4,
   "metadata": {
    "collapsed": false
   },
   "outputs": [
    {
     "name": "stdout",
     "output_type": "stream",
     "text": [
      "Before calling func(), x is:  50\n",
      "This function is now using global x!\n",
      "Global x right now is:  50\n",
      "Ran func(), changed global x to  2\n",
      "Value of x (outside of func()) is:  2\n"
     ]
    }
   ],
   "source": [
    "x=50\n",
    "\n",
    "def func():\n",
    "    #Note that the x is no longer in func(x)\n",
    "    global x\n",
    "    print 'This function is now using global x!'\n",
    "    print 'Global x right now is: ', x\n",
    "    x=2\n",
    "    #Whatever changes we do will affect x globally\n",
    "    print 'Ran func(), changed global x to ', x\n",
    "\n",
    "print 'Before calling func(), x is: ', x\n",
    "func()\n",
    "print 'Value of x (outside of func()) is: ', x"
   ]
  },
  {
   "cell_type": "code",
   "execution_count": 23,
   "metadata": {
    "collapsed": true
   },
   "outputs": [],
   "source": [
    "#So with the global statement, we can put in name\n",
    "#changes to variables that have a global scope"
   ]
  },
  {
   "cell_type": "code",
   "execution_count": 24,
   "metadata": {
    "collapsed": true
   },
   "outputs": [],
   "source": [
    "#Final Note: You can use the globals() and locals() functions\n",
    "#to check what are you current local and global variables.\n",
    "\n",
    "#Another thing to keep in mind is that everything in \n",
    "#Python is an object! ...so we can assign variables to\n",
    "#functions just like we can with numbers\n"
   ]
  },
  {
   "cell_type": "code",
   "execution_count": null,
   "metadata": {
    "collapsed": true
   },
   "outputs": [],
   "source": []
  }
 ],
 "metadata": {
  "kernelspec": {
   "display_name": "Python 2",
   "language": "python",
   "name": "python2"
  },
  "language_info": {
   "codemirror_mode": {
    "name": "ipython",
    "version": 2
   },
   "file_extension": ".py",
   "mimetype": "text/x-python",
   "name": "python",
   "nbconvert_exporter": "python",
   "pygments_lexer": "ipython2",
   "version": "2.7.11"
  }
 },
 "nbformat": 4,
 "nbformat_minor": 0
}
