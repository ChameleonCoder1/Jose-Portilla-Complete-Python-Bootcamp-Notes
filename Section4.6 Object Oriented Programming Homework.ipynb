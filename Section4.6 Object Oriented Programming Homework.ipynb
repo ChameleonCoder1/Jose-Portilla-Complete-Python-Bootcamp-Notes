{
 "cells": [
  {
   "cell_type": "code",
   "execution_count": 1,
   "metadata": {
    "collapsed": true
   },
   "outputs": [],
   "source": [
    "#Question 1. Fill in the Line class methods below so that\n",
    "#it accepts coordinates as a pair of tuples and returns\n",
    "#the slope and distance of the line"
   ]
  },
  {
   "cell_type": "code",
   "execution_count": 44,
   "metadata": {
    "collapsed": true
   },
   "outputs": [],
   "source": [
    "#class Line(object):\n",
    "    \n",
    "    #def __init__(self, coor1, coor2):\n",
    "        #pass\n",
    "    \n",
    "    #def distance(self):\n",
    "        #pass\n",
    "    \n",
    "    #def slope(self):\n",
    "        #pass\n",
    "\n",
    "    \n",
    "class Line(object):\n",
    "    \n",
    "    def __init__(self, coor1, coor2):\n",
    "        self.coor1= coor1\n",
    "        self.coor2= coor2\n",
    "    \n",
    "    def distance(self):\n",
    "        #unpack the tuple\n",
    "        x1,y1=self.coor1\n",
    "        x2,y2=self.coor2\n",
    "        return ((y2-y1)**2 + (x2-x1)**2)**0.5\n",
    "    \n",
    "    def slope(self):\n",
    "        #unpack the tuple\n",
    "        x1,y1=self.coor1\n",
    "        x2,y2=self.coor2\n",
    "        return float ((y2-y1))/(x2-x1)\n",
    "        #float so that it uses numbers beyond decimal point\n",
    "        "
   ]
  },
  {
   "cell_type": "code",
   "execution_count": null,
   "metadata": {
    "collapsed": true
   },
   "outputs": [],
   "source": []
  },
  {
   "cell_type": "code",
   "execution_count": 45,
   "metadata": {
    "collapsed": false
   },
   "outputs": [],
   "source": [
    "#Question 2. Fill in the class below to make methods\n",
    "#for volume and surface_area\n",
    "\n",
    "class Cylinder(object):\n",
    "    pi=3.14\n",
    "    \n",
    "    def __init__(self, height=1, radius=1):\n",
    "        self.height=height\n",
    "        self.radius=radius\n",
    "        print \"You created a cyl\"\n",
    "    \n",
    "    def volume(self):\n",
    "        return self.radius**2*self.height*Cylinder.pi\n",
    "        \n",
    "    def surface_area(self):\n",
    "        return (self.radius*self.radius*Cylinder.pi*2)+(self.radius*2*Cylinder.pi*self.height)"
   ]
  },
  {
   "cell_type": "code",
   "execution_count": 46,
   "metadata": {
    "collapsed": false
   },
   "outputs": [
    {
     "name": "stdout",
     "output_type": "stream",
     "text": [
      "You created a cyl\n"
     ]
    }
   ],
   "source": [
    "c=Cylinder()\n"
   ]
  },
  {
   "cell_type": "code",
   "execution_count": 47,
   "metadata": {
    "collapsed": false
   },
   "outputs": [
    {
     "data": {
      "text/plain": [
       "1"
      ]
     },
     "execution_count": 47,
     "metadata": {},
     "output_type": "execute_result"
    }
   ],
   "source": [
    "c.height"
   ]
  },
  {
   "cell_type": "code",
   "execution_count": 48,
   "metadata": {
    "collapsed": false
   },
   "outputs": [
    {
     "data": {
      "text/plain": [
       "1"
      ]
     },
     "execution_count": 48,
     "metadata": {},
     "output_type": "execute_result"
    }
   ],
   "source": [
    "c.radius"
   ]
  },
  {
   "cell_type": "code",
   "execution_count": 49,
   "metadata": {
    "collapsed": false
   },
   "outputs": [
    {
     "data": {
      "text/plain": [
       "12.56"
      ]
     },
     "execution_count": 49,
     "metadata": {},
     "output_type": "execute_result"
    }
   ],
   "source": [
    "c.surface_area()"
   ]
  },
  {
   "cell_type": "code",
   "execution_count": 50,
   "metadata": {
    "collapsed": false
   },
   "outputs": [
    {
     "data": {
      "text/plain": [
       "3.14"
      ]
     },
     "execution_count": 50,
     "metadata": {},
     "output_type": "execute_result"
    }
   ],
   "source": [
    "c.volume()"
   ]
  },
  {
   "cell_type": "code",
   "execution_count": 53,
   "metadata": {
    "collapsed": false
   },
   "outputs": [
    {
     "name": "stdout",
     "output_type": "stream",
     "text": [
      "You created a cyl\n",
      "56.52\n",
      "94.2\n"
     ]
    }
   ],
   "source": [
    "#Also works if we put in our own values for h and r\n",
    "\n",
    "c=Cylinder(2,3)\n",
    "print c.volume()\n",
    "print c.surface_area()"
   ]
  },
  {
   "cell_type": "code",
   "execution_count": null,
   "metadata": {
    "collapsed": true
   },
   "outputs": [],
   "source": []
  },
  {
   "cell_type": "code",
   "execution_count": null,
   "metadata": {
    "collapsed": true
   },
   "outputs": [],
   "source": []
  }
 ],
 "metadata": {
  "kernelspec": {
   "display_name": "Python 2",
   "language": "python",
   "name": "python2"
  },
  "language_info": {
   "codemirror_mode": {
    "name": "ipython",
    "version": 2
   },
   "file_extension": ".py",
   "mimetype": "text/x-python",
   "name": "python",
   "nbconvert_exporter": "python",
   "pygments_lexer": "ipython2",
   "version": "2.7.11"
  }
 },
 "nbformat": 4,
 "nbformat_minor": 0
}
