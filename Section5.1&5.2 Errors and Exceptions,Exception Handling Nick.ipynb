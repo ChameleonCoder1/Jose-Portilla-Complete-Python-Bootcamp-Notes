{
 "cells": [
  {
   "cell_type": "code",
   "execution_count": 1,
   "metadata": {
    "collapsed": false
   },
   "outputs": [
    {
     "ename": "SyntaxError",
     "evalue": "EOL while scanning string literal (<ipython-input-1-73ec032d9f2c>, line 5)",
     "output_type": "error",
     "traceback": [
      "\u001b[0;36m  File \u001b[0;32m\"<ipython-input-1-73ec032d9f2c>\"\u001b[0;36m, line \u001b[0;32m5\u001b[0m\n\u001b[0;31m    print 'Hello\u001b[0m\n\u001b[0m                ^\u001b[0m\n\u001b[0;31mSyntaxError\u001b[0m\u001b[0;31m:\u001b[0m EOL while scanning string literal\n"
     ]
    }
   ],
   "source": [
    "#Errors detected during execution are called exceptions and are not\n",
    "#unconditionally fatal (it won't have to break your entire code).\n",
    "\n",
    "#Example of exception:\n",
    "\n",
    "print 'Hello "
   ]
  },
  {
   "cell_type": "code",
   "execution_count": 2,
   "metadata": {
    "collapsed": true
   },
   "outputs": [],
   "source": [
    "#The basic terminology and syntax used to handle errors in Python is the\n",
    "#TRY and EXCEPT statements.\n"
   ]
  },
  {
   "cell_type": "code",
   "execution_count": 3,
   "metadata": {
    "collapsed": true
   },
   "outputs": [],
   "source": [
    "#The code which can cause an exception to occur is put in the TRY block \n",
    "#and the handling of the exception is implemented in the EXCEPT block of\n",
    "#the code.\n",
    "\n",
    "try:\n",
    "    pass\n",
    "    #You do you operations here that you suspect has an exception...\n",
    "    #May be skipped if there actually is an exception\n",
    "    \n",
    "except ExceptionI:\n",
    "    pass\n",
    "    #If there is ExceptionI, then execute this block.\n",
    "\n",
    "except ExceptionII:\n",
    "    pass\n",
    "\n",
    "else:\n",
    "    pass\n",
    "    #If there is no exception then execute this block.\n",
    "    \n",
    "#The FINALLY keyword allows us to place code that will always be run \n",
    "#even if there are exceptions!\n",
    "#The finally block of code will always be run regardless if there\n",
    "#was an exception in the try code block\n",
    "\n",
    "finally:\n",
    "    pass\n",
    "    #This code block would always be executed\n",
    "    "
   ]
  },
  {
   "cell_type": "code",
   "execution_count": null,
   "metadata": {
    "collapsed": true
   },
   "outputs": [],
   "source": []
  },
  {
   "cell_type": "code",
   "execution_count": null,
   "metadata": {
    "collapsed": true
   },
   "outputs": [],
   "source": []
  },
  {
   "cell_type": "code",
   "execution_count": 4,
   "metadata": {
    "collapsed": true
   },
   "outputs": [],
   "source": [
    "#Section 6.2: Exception Handling: try, except, finally"
   ]
  },
  {
   "cell_type": "code",
   "execution_count": 6,
   "metadata": {
    "collapsed": false
   },
   "outputs": [
    {
     "ename": "TypeError",
     "evalue": "unsupported operand type(s) for +: 'int' and 'str'",
     "output_type": "error",
     "traceback": [
      "\u001b[0;31m---------------------------------------------------------------------------\u001b[0m",
      "\u001b[0;31mTypeError\u001b[0m                                 Traceback (most recent call last)",
      "\u001b[0;32m<ipython-input-6-842879d18793>\u001b[0m in \u001b[0;36m<module>\u001b[0;34m()\u001b[0m\n\u001b[0;32m----> 1\u001b[0;31m \u001b[0;36m2\u001b[0m \u001b[0;34m+\u001b[0m \u001b[0;34m's'\u001b[0m\u001b[0;34m\u001b[0m\u001b[0m\n\u001b[0m",
      "\u001b[0;31mTypeError\u001b[0m: unsupported operand type(s) for +: 'int' and 'str'"
     ]
    }
   ],
   "source": [
    "2 + 's'"
   ]
  },
  {
   "cell_type": "code",
   "execution_count": 8,
   "metadata": {
    "collapsed": false
   },
   "outputs": [
    {
     "name": "stdout",
     "output_type": "stream",
     "text": [
      "There was a type error dude come on\n"
     ]
    }
   ],
   "source": [
    "try:\n",
    "    2 + 's'\n",
    "    \n",
    "except TypeError:\n",
    "    #We dont have to actually specify which error it is...that would\n",
    "    #require us to know all of the exceptions in Python (which can be\n",
    "    #found on the website)\n",
    "    print \"There was a type error dude come on\"\n",
    "    "
   ]
  },
  {
   "cell_type": "code",
   "execution_count": 9,
   "metadata": {
    "collapsed": false
   },
   "outputs": [
    {
     "name": "stdout",
     "output_type": "stream",
     "text": [
      "There was a type error dude come on\n"
     ]
    }
   ],
   "source": [
    "try:\n",
    "    2 + 's'\n",
    "    \n",
    "except:\n",
    "    print \"There was a type error dude come on\"\n",
    "\n"
   ]
  },
  {
   "cell_type": "code",
   "execution_count": 10,
   "metadata": {
    "collapsed": false
   },
   "outputs": [
    {
     "name": "stdout",
     "output_type": "stream",
     "text": [
      "There was a type error dude come on\n",
      "Finally this was printed\n"
     ]
    }
   ],
   "source": [
    "try:\n",
    "    2 + 's'\n",
    "    \n",
    "except:\n",
    "    print \"There was a type error dude come on\"\n",
    "\n",
    "finally:\n",
    "    print \"Finally this was printed\""
   ]
  },
  {
   "cell_type": "code",
   "execution_count": 11,
   "metadata": {
    "collapsed": false
   },
   "outputs": [
    {
     "name": "stdout",
     "output_type": "stream",
     "text": [
      "File write was a success!\n"
     ]
    }
   ],
   "source": [
    "#When you don't have any exceptions, you can use else to let you know it\n",
    "#worked. For example, Python will create a file whenever we go to open\n",
    "#a file that is not there. To do this, we use open(\"newfile\",'w') where\n",
    "#the w stands for \"write\" and the 'newfile' is the name. Then we can use\n",
    "#the .write method on this object to write in that file. Anyways, this\n",
    "#creates a new file and therefore the \"except\" will not be used below:\n",
    "\n",
    "\n",
    "try:\n",
    "    f = open('newfile123', 'w')\n",
    "    #Python created a file and we have permission to write in it\n",
    "    f.write('Write this in our new file')\n",
    "    #we wrote in it\n",
    "except:\n",
    "    print 'Error in writing to the file'\n",
    "\n",
    "else:\n",
    "    print \"File write was a success!\""
   ]
  },
  {
   "cell_type": "code",
   "execution_count": 13,
   "metadata": {
    "collapsed": false
   },
   "outputs": [
    {
     "name": "stdout",
     "output_type": "stream",
     "text": [
      "Error in writing to the file\n",
      "Did you mess up?\n"
     ]
    }
   ],
   "source": [
    "#If we put an 'r' where the 'w' is, it only gives us permission to\n",
    "#read it. \n",
    "\n",
    "try:\n",
    "    f = open('newfile123', 'r')\n",
    "    #Python created a file and we have permission to read in it\n",
    "    f.write('Write this in our new file')\n",
    "    #but we tried to write in it\n",
    "except:\n",
    "    print 'Error in writing to the file'\n",
    "\n",
    "else:\n",
    "    print \"File write was a success!\"\n",
    "    \n",
    "finally:\n",
    "    print \"Did you mess up?\""
   ]
  },
  {
   "cell_type": "code",
   "execution_count": 27,
   "metadata": {
    "collapsed": true
   },
   "outputs": [],
   "source": [
    " def askint():\n",
    "        try:\n",
    "            value1= int(raw_input(\"Please enter an integer: \"))\n",
    "        except:\n",
    "            print \"Looks like you did not enter an integer\"\n",
    "        finally:\n",
    "            print \"Finally block executed\""
   ]
  },
  {
   "cell_type": "code",
   "execution_count": 28,
   "metadata": {
    "collapsed": false
   },
   "outputs": [
    {
     "name": "stdout",
     "output_type": "stream",
     "text": [
      "Please enter an integer: 3\n",
      "Finally block executed\n"
     ]
    }
   ],
   "source": [
    "askint()"
   ]
  },
  {
   "cell_type": "code",
   "execution_count": 29,
   "metadata": {
    "collapsed": false
   },
   "outputs": [
    {
     "name": "stdout",
     "output_type": "stream",
     "text": [
      "Please enter an integer: cow\n",
      "Looks like you did not enter an integer\n",
      "Finally block executed\n"
     ]
    }
   ],
   "source": [
    "askint()"
   ]
  },
  {
   "cell_type": "code",
   "execution_count": 31,
   "metadata": {
    "collapsed": false
   },
   "outputs": [],
   "source": [
    " def askint():\n",
    "        try:\n",
    "            value1= int(raw_input(\"Please enter an integer: \"))\n",
    "        except:\n",
    "            print \"Looks like you did not enter an integer\"\n",
    "            value1= int(raw_input(\"Try again dums... \"))\n",
    "        finally:\n",
    "            print \"Finally block executed\""
   ]
  },
  {
   "cell_type": "code",
   "execution_count": 32,
   "metadata": {
    "collapsed": false
   },
   "outputs": [
    {
     "name": "stdout",
     "output_type": "stream",
     "text": [
      "Please enter an integer: cow\n",
      "Looks like you did not enter an integer\n",
      "Try again dums... 4\n",
      "Finally block executed\n"
     ]
    }
   ],
   "source": [
    "askint()"
   ]
  },
  {
   "cell_type": "code",
   "execution_count": 33,
   "metadata": {
    "collapsed": true
   },
   "outputs": [],
   "source": [
    "#If we messed up again (did 'cow' twice), it would show up as an error\n",
    "#without asking again. To make this run until we put in an integer, we\n",
    "#need to use a while loop.\n"
   ]
  },
  {
   "cell_type": "code",
   "execution_count": 34,
   "metadata": {
    "collapsed": false
   },
   "outputs": [
    {
     "name": "stdout",
     "output_type": "stream",
     "text": [
      "Please enter an integer: cow\n",
      "Looks like you did not enter an integer\n",
      "Try again dums... horse\n",
      "Finally block executed\n"
     ]
    },
    {
     "ename": "ValueError",
     "evalue": "invalid literal for int() with base 10: 'horse'",
     "output_type": "error",
     "traceback": [
      "\u001b[0;31m---------------------------------------------------------------------------\u001b[0m",
      "\u001b[0;31mValueError\u001b[0m                                Traceback (most recent call last)",
      "\u001b[0;32m<ipython-input-34-6ee53d339e7e>\u001b[0m in \u001b[0;36m<module>\u001b[0;34m()\u001b[0m\n\u001b[0;32m----> 1\u001b[0;31m \u001b[0maskint\u001b[0m\u001b[0;34m(\u001b[0m\u001b[0;34m)\u001b[0m\u001b[0;34m\u001b[0m\u001b[0m\n\u001b[0m",
      "\u001b[0;32m<ipython-input-31-97f8ba06d683>\u001b[0m in \u001b[0;36maskint\u001b[0;34m()\u001b[0m\n\u001b[1;32m      4\u001b[0m        \u001b[0;32mexcept\u001b[0m\u001b[0;34m:\u001b[0m\u001b[0;34m\u001b[0m\u001b[0m\n\u001b[1;32m      5\u001b[0m            \u001b[0;32mprint\u001b[0m \u001b[0;34m\"Looks like you did not enter an integer\"\u001b[0m\u001b[0;34m\u001b[0m\u001b[0m\n\u001b[0;32m----> 6\u001b[0;31m            \u001b[0mvalue1\u001b[0m\u001b[0;34m=\u001b[0m \u001b[0mint\u001b[0m\u001b[0;34m(\u001b[0m\u001b[0mraw_input\u001b[0m\u001b[0;34m(\u001b[0m\u001b[0;34m\"Try again dums... \"\u001b[0m\u001b[0;34m)\u001b[0m\u001b[0;34m)\u001b[0m\u001b[0;34m\u001b[0m\u001b[0m\n\u001b[0m\u001b[1;32m      7\u001b[0m        \u001b[0;32mfinally\u001b[0m\u001b[0;34m:\u001b[0m\u001b[0;34m\u001b[0m\u001b[0m\n\u001b[1;32m      8\u001b[0m            \u001b[0;32mprint\u001b[0m \u001b[0;34m\"Finally block executed\"\u001b[0m\u001b[0;34m\u001b[0m\u001b[0m\n",
      "\u001b[0;31mValueError\u001b[0m: invalid literal for int() with base 10: 'horse'"
     ]
    }
   ],
   "source": [
    "askint()"
   ]
  },
  {
   "cell_type": "code",
   "execution_count": 39,
   "metadata": {
    "collapsed": true
   },
   "outputs": [],
   "source": [
    " def askint():\n",
    "    while True:\n",
    "        try:\n",
    "            value1= int(raw_input(\"Please enter an integer: \"))\n",
    "        except:\n",
    "            print \"Looks like you did not enter an integer\"\n",
    "            #it wouldnt work right for some reason if i put in\n",
    "            #value1=int(raw_input(\"Try again dums...)) right here\n",
    "            continue\n",
    "            #Means go back to the top of the while loop and start over\n",
    "        else:\n",
    "            print \"Correct, that is an integer!\"\n",
    "            break\n",
    "        \n",
    "        finally:\n",
    "            print \"Finally block executed\""
   ]
  },
  {
   "cell_type": "code",
   "execution_count": 40,
   "metadata": {
    "collapsed": false
   },
   "outputs": [
    {
     "name": "stdout",
     "output_type": "stream",
     "text": [
      "Please enter an integer: a\n",
      "Looks like you did not enter an integer\n",
      "Finally block executed\n",
      "Please enter an integer: s\n",
      "Looks like you did not enter an integer\n",
      "Finally block executed\n",
      "Please enter an integer: cow\n",
      "Looks like you did not enter an integer\n",
      "Finally block executed\n",
      "Please enter an integer: poopy turd\n",
      "Looks like you did not enter an integer\n",
      "Finally block executed\n",
      "Please enter an integer: 4\n",
      "Correct, that is an integer!\n",
      "Finally block executed\n"
     ]
    }
   ],
   "source": [
    "askint()"
   ]
  },
  {
   "cell_type": "code",
   "execution_count": null,
   "metadata": {
    "collapsed": true
   },
   "outputs": [],
   "source": [
    "#Notice that the finally block executed every time."
   ]
  },
  {
   "cell_type": "code",
   "execution_count": null,
   "metadata": {
    "collapsed": true
   },
   "outputs": [],
   "source": []
  }
 ],
 "metadata": {
  "kernelspec": {
   "display_name": "Python 2",
   "language": "python",
   "name": "python2"
  },
  "language_info": {
   "codemirror_mode": {
    "name": "ipython",
    "version": 2
   },
   "file_extension": ".py",
   "mimetype": "text/x-python",
   "name": "python",
   "nbconvert_exporter": "python",
   "pygments_lexer": "ipython2",
   "version": "2.7.11"
  }
 },
 "nbformat": 4,
 "nbformat_minor": 0
}
