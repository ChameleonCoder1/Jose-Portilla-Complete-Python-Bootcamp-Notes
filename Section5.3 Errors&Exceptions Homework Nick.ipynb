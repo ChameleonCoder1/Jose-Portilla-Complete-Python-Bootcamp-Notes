{
 "cells": [
  {
   "cell_type": "code",
   "execution_count": 1,
   "metadata": {
    "collapsed": true
   },
   "outputs": [],
   "source": [
    "#Question 1. Handle the exception thrown by the code below\n",
    "#by using try and except blocks.\n",
    "\n",
    "#for i in ['a', 'b', 'c']:\n",
    "    #print i**2\n",
    "    \n",
    "#^won't work because they are strings, not numbers. Strings cant\n",
    "#be squared\n"
   ]
  },
  {
   "cell_type": "code",
   "execution_count": 5,
   "metadata": {
    "collapsed": false
   },
   "outputs": [
    {
     "name": "stdout",
     "output_type": "stream",
     "text": [
      "An error occurred!\n"
     ]
    }
   ],
   "source": [
    "try:\n",
    "    for i in ['a', 'b', 'c']:\n",
    "        print i**2\n",
    "except:\n",
    "    print \"An error occurred!\"\n"
   ]
  },
  {
   "cell_type": "code",
   "execution_count": null,
   "metadata": {
    "collapsed": true
   },
   "outputs": [],
   "source": []
  },
  {
   "cell_type": "code",
   "execution_count": 3,
   "metadata": {
    "collapsed": true
   },
   "outputs": [],
   "source": [
    "#Question 2. Handle exception by using try and except blocks. Then\n",
    "#use a finally block to print \"All Done\"\n",
    "\n",
    "#x=5\n",
    "#y=0\n",
    "\n",
    "#z= x/y\n",
    "\n",
    "#^wont work because divide by 0\n"
   ]
  },
  {
   "cell_type": "code",
   "execution_count": 6,
   "metadata": {
    "collapsed": false
   },
   "outputs": [
    {
     "name": "stdout",
     "output_type": "stream",
     "text": [
      "You can't do that\n",
      "All done\n"
     ]
    }
   ],
   "source": [
    "x=5\n",
    "y=0\n",
    "\n",
    "try:\n",
    "    z=x/y\n",
    "    print z\n",
    "except:\n",
    "    print \"You can't do that\"\n",
    "finally:\n",
    "    print \"All done\""
   ]
  },
  {
   "cell_type": "code",
   "execution_count": null,
   "metadata": {
    "collapsed": true
   },
   "outputs": [],
   "source": []
  },
  {
   "cell_type": "code",
   "execution_count": 4,
   "metadata": {
    "collapsed": true
   },
   "outputs": [],
   "source": [
    "#Question 3. Write a function that asks for an integer and prints\n",
    "#the square of it. Use a while loop with a try, except, else block to\n",
    "#account for incorrect inputs.\n",
    "\n",
    "#def ask():\n",
    "    #pass\n",
    "\n",
    "#then, when we run ask():\n",
    "    #Input an integer: null\n",
    "    #An error occurred, try again.\n",
    "    #Input an integer: 2\n",
    "    #Thank you, your number squared is: 4"
   ]
  },
  {
   "cell_type": "code",
   "execution_count": 9,
   "metadata": {
    "collapsed": true
   },
   "outputs": [],
   "source": [
    "def ask():\n",
    "    while True:\n",
    "        try:\n",
    "            yo=int(raw_input(\"Input an integer:  \"))\n",
    "        except:\n",
    "            print \"That's not an integer num nut\"\n",
    "            continue\n",
    "        else:\n",
    "            print \"Good Job smart dude, your number squared is: %s\" %yo**2\n",
    "            break\n",
    "    print \"That's all folks!\""
   ]
  },
  {
   "cell_type": "code",
   "execution_count": 10,
   "metadata": {
    "collapsed": false
   },
   "outputs": [
    {
     "name": "stdout",
     "output_type": "stream",
     "text": [
      "Input an integer:  leaf\n",
      "That's not an integer num nut\n",
      "Input an integer:  turd\n",
      "That's not an integer num nut\n",
      "Input an integer:  7\n",
      "Good Job smart dude, your number squared is: 49\n",
      "That's all folks!\n"
     ]
    }
   ],
   "source": [
    "ask()"
   ]
  },
  {
   "cell_type": "code",
   "execution_count": null,
   "metadata": {
    "collapsed": true
   },
   "outputs": [],
   "source": []
  },
  {
   "cell_type": "code",
   "execution_count": null,
   "metadata": {
    "collapsed": true
   },
   "outputs": [],
   "source": []
  }
 ],
 "metadata": {
  "kernelspec": {
   "display_name": "Python 2",
   "language": "python",
   "name": "python2"
  },
  "language_info": {
   "codemirror_mode": {
    "name": "ipython",
    "version": 2
   },
   "file_extension": ".py",
   "mimetype": "text/x-python",
   "name": "python",
   "nbconvert_exporter": "python",
   "pygments_lexer": "ipython2",
   "version": "2.7.11"
  }
 },
 "nbformat": 4,
 "nbformat_minor": 0
}
