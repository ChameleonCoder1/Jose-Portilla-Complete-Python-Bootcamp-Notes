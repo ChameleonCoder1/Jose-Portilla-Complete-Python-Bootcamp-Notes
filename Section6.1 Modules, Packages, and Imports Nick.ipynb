{
 "cells": [
  {
   "cell_type": "code",
   "execution_count": 6,
   "metadata": {
    "collapsed": true
   },
   "outputs": [],
   "source": [
    "#Learning what modules are, how to import them, and how to install\n",
    "#mods from the internet\n",
    "\n",
    "#Note: Import statements typically go at the top of all of our code"
   ]
  },
  {
   "cell_type": "code",
   "execution_count": 2,
   "metadata": {
    "collapsed": false
   },
   "outputs": [],
   "source": [
    "#import, then type name of module. for ex:\n",
    "\n",
    "import math\n"
   ]
  },
  {
   "cell_type": "code",
   "execution_count": 3,
   "metadata": {
    "collapsed": false,
    "scrolled": true
   },
   "outputs": [
    {
     "data": {
      "text/plain": [
       "2.0"
      ]
     },
     "execution_count": 3,
     "metadata": {},
     "output_type": "execute_result"
    }
   ],
   "source": [
    "math.sqrt(4)"
   ]
  },
  {
   "cell_type": "code",
   "execution_count": 4,
   "metadata": {
    "collapsed": true
   },
   "outputs": [],
   "source": [
    "#Or, we can import a function from a module and then we dont\n",
    "#even have to call that module when we go to call the function:\n",
    "\n",
    "from math import sqrt\n",
    "\n",
    "#this is a better way to do it because python doesn't have to \n",
    "#install the entire module"
   ]
  },
  {
   "cell_type": "code",
   "execution_count": 5,
   "metadata": {
    "collapsed": false
   },
   "outputs": [
    {
     "data": {
      "text/plain": [
       "2.0"
      ]
     },
     "execution_count": 5,
     "metadata": {},
     "output_type": "execute_result"
    }
   ],
   "source": [
    "sqrt(4)"
   ]
  },
  {
   "cell_type": "code",
   "execution_count": 8,
   "metadata": {
    "collapsed": true
   },
   "outputs": [],
   "source": [
    "#How do you download modules that are not built into Python?\n",
    "#From terminal (or Anaconda) command prompt, type:\n",
    "#conda install *module name*\n",
    "\n",
    "#If that doesn't work, use:\n",
    "#pip install *module name*\n",
    "\n",
    "#For example, i just typed into terminal:\n",
    "#conda install flask\n",
    "#^Flask is a web framework for creating websites in python\n",
    "\n",
    "#Since anaconda comes with flask built in, it installs it using the\n",
    "#anaconda distribution. If anaconda doesnt have the module or\n",
    "#package we are installing, we need to use pip. Pip is a package\n",
    "#management system that is used to install packages into python.\n",
    "#Most packages avaliable to install are found on PyPi (Python\n",
    "#Package Index)...what if we were interested in using powerpoint\n",
    "#with python. Googled \"python powerpoint module\" and found that\n",
    "#pip install python-pptx \n",
    "#can be used to download it!\n",
    "\n",
    "#Instead of google searching, typically people go to \n",
    "#GitHub.com for finding packages. Use the searchbar in \n",
    "#GitHub and type in your interest, for example\n",
    "#\"web scraping\". Make sure on the left under languages that\n",
    "#python is selected.\n",
    "\n"
   ]
  },
  {
   "cell_type": "code",
   "execution_count": null,
   "metadata": {
    "collapsed": true
   },
   "outputs": [],
   "source": []
  }
 ],
 "metadata": {
  "kernelspec": {
   "display_name": "Python 2",
   "language": "python",
   "name": "python2"
  },
  "language_info": {
   "codemirror_mode": {
    "name": "ipython",
    "version": 2
   },
   "file_extension": ".py",
   "mimetype": "text/x-python",
   "name": "python",
   "nbconvert_exporter": "python",
   "pygments_lexer": "ipython2",
   "version": "2.7.11"
  }
 },
 "nbformat": 4,
 "nbformat_minor": 0
}
