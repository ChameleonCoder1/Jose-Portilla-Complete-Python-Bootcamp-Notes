{
 "cells": [
  {
   "cell_type": "code",
   "execution_count": 2,
   "metadata": {
    "collapsed": true
   },
   "outputs": [],
   "source": [
    "#Complex()\n",
    "\n",
    "#Complex() accepts either a string or a pair of\n",
    "#numbers as an imput and returns a complex number.\n",
    "\n",
    "\n",
    "\n",
    "#Full definition:\n",
    "\n",
    "#complex() returns a complex number with the \n",
    "#value real + imag*1j or converts a string or number \n",
    "#to a complex number.\n",
    "\n",
    "#If the first parameter is a string, it will be \n",
    "#interpreted as a complex number and the function\n",
    "#must be called without a second parameter. The second \n",
    "#parameter can never be a string. Each argument may \n",
    "#be any numeric type (including complex). If imag is \n",
    "#omitted, it defaults to zero and the constructor \n",
    "#serves as a numeric conversion like int and float. \n",
    "#If both arguments are omitted, returns 0j.\n",
    "\n",
    "#If you are doing math or engineering that requires \n",
    "#complex numbers (such as dynamics,control systems, \n",
    "#or impedence of a circuit) this is a useful tool to \n",
    "#have in Python."
   ]
  },
  {
   "cell_type": "code",
   "execution_count": 3,
   "metadata": {
    "collapsed": false
   },
   "outputs": [
    {
     "data": {
      "text/plain": [
       "(2+3j)"
      ]
     },
     "execution_count": 3,
     "metadata": {},
     "output_type": "execute_result"
    }
   ],
   "source": [
    "#Easier with examples...put real part first then imaginary (3\n",
    "#here):\n",
    "\n",
    "complex(2,3)"
   ]
  },
  {
   "cell_type": "code",
   "execution_count": 4,
   "metadata": {
    "collapsed": false
   },
   "outputs": [
    {
     "data": {
      "text/plain": [
       "(10+2j)"
      ]
     },
     "execution_count": 4,
     "metadata": {},
     "output_type": "execute_result"
    }
   ],
   "source": [
    "#Complex() can read strings as well. If passing a string, \n",
    "#dont pass a second parameter since you are already \n",
    "#passing the imaginary part inside the string.\n",
    "complex('10+2j')"
   ]
  },
  {
   "cell_type": "code",
   "execution_count": 6,
   "metadata": {
    "collapsed": true
   },
   "outputs": [],
   "source": [
    "#That's all."
   ]
  },
  {
   "cell_type": "code",
   "execution_count": null,
   "metadata": {
    "collapsed": true
   },
   "outputs": [],
   "source": []
  }
 ],
 "metadata": {
  "kernelspec": {
   "display_name": "Python 2",
   "language": "python",
   "name": "python2"
  },
  "language_info": {
   "codemirror_mode": {
    "name": "ipython",
    "version": 2
   },
   "file_extension": ".py",
   "mimetype": "text/x-python",
   "name": "python",
   "nbconvert_exporter": "python",
   "pygments_lexer": "ipython2",
   "version": "2.7.11"
  }
 },
 "nbformat": 4,
 "nbformat_minor": 0
}
