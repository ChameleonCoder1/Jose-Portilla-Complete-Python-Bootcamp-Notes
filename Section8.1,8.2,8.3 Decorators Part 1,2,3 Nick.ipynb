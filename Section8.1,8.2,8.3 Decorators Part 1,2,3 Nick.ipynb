{
 "cells": [
  {
   "cell_type": "code",
   "execution_count": 2,
   "metadata": {
    "collapsed": false
   },
   "outputs": [],
   "source": [
    "#Decorators can be thought of as functions which modify \n",
    "#the functionality of another function. They help to make your \n",
    "#code shorter and more \"Pythonic\". We run into it more when we\n",
    "#start working with web frameworks such as Django or Flask.\n",
    "\n",
    "#To properly explain decorators we will slowly build up \n",
    "#from functions. Make sure to restart the Python and the \n",
    "#Notebooks for this lecture to look the same on your own computer. \n",
    "#So lets break down the steps:"
   ]
  },
  {
   "cell_type": "code",
   "execution_count": 3,
   "metadata": {
    "collapsed": true
   },
   "outputs": [],
   "source": [
    "def func():\n",
    "    return 1"
   ]
  },
  {
   "cell_type": "code",
   "execution_count": 4,
   "metadata": {
    "collapsed": false
   },
   "outputs": [
    {
     "data": {
      "text/plain": [
       "1"
      ]
     },
     "execution_count": 4,
     "metadata": {},
     "output_type": "execute_result"
    }
   ],
   "source": [
    "func()"
   ]
  },
  {
   "cell_type": "code",
   "execution_count": 11,
   "metadata": {
    "collapsed": true
   },
   "outputs": [],
   "source": [
    "s= 'This is a global variable'\n",
    "#Not inside a function nor inside a class\n"
   ]
  },
  {
   "cell_type": "raw",
   "metadata": {},
   "source": []
  },
  {
   "cell_type": "code",
   "execution_count": 8,
   "metadata": {
    "collapsed": false
   },
   "outputs": [
    {
     "name": "stdout",
     "output_type": "stream",
     "text": [
      "{'_dh': [u'/Users/nweimer'], '__': '', '_4': 1, '_i': u'print globals', 'quit': <IPython.core.autocall.ZMQExitAutocall object at 0x1065c7b50>, '__builtins__': <module '__builtin__' (built-in)>, 's': 'This is a global variable', '_ih': ['', u'#Decorators can be thought of as functions which modify the functionality of another function. They help to make your code shorter and more \"Pythonic\".\\n\\nTo properly explain decorators we will slowly build up from functions. Make sure to restart the Python and the Notebooks for this lecture to look the same on your own computer. So lets break down the steps:', u'#Decorators can be thought of as functions which modify \\n#the functionality of another function. They help to make your \\n#code shorter and more \"Pythonic\".\\n\\n#To properly explain decorators we will slowly build up \\n#from functions. Make sure to restart the Python and the \\n#Notebooks for this lecture to look the same on your own computer. \\n#So lets break down the steps:', u'def func():\\n    return 1', u'func()', u\"s= 'This is a global variable'\\n#Not inside a function nor inside a class\\n\\ndef funct():\\n    print locals()\", u\"s= 'This is a global variable'\\n#Not inside a function nor inside a class\\n\\ndef func():\\n    print locals()\", u'print globals', u'print globals()'], '__builtin__': <module '__builtin__' (built-in)>, 'func': <function func at 0x106c368c0>, 'funct': <function funct at 0x106c369b0>, '__name__': '__main__', '___': '', '_': 1, '_sh': <module 'IPython.core.shadowns' from '/Users/nweimer/anaconda/lib/python2.7/site-packages/IPython/core/shadowns.pyc'>, '_i8': u'print globals()', '_i7': u'print globals', '_i6': u\"s= 'This is a global variable'\\n#Not inside a function nor inside a class\\n\\ndef func():\\n    print locals()\", '_i5': u\"s= 'This is a global variable'\\n#Not inside a function nor inside a class\\n\\ndef funct():\\n    print locals()\", '_i4': u'func()', '_i3': u'def func():\\n    return 1', '_i2': u'#Decorators can be thought of as functions which modify \\n#the functionality of another function. They help to make your \\n#code shorter and more \"Pythonic\".\\n\\n#To properly explain decorators we will slowly build up \\n#from functions. Make sure to restart the Python and the \\n#Notebooks for this lecture to look the same on your own computer. \\n#So lets break down the steps:', '_i1': u'#Decorators can be thought of as functions which modify the functionality of another function. They help to make your code shorter and more \"Pythonic\".\\n\\nTo properly explain decorators we will slowly build up from functions. Make sure to restart the Python and the Notebooks for this lecture to look the same on your own computer. So lets break down the steps:', '__doc__': 'Automatically created module for IPython interactive environment', '_iii': u\"s= 'This is a global variable'\\n#Not inside a function nor inside a class\\n\\ndef funct():\\n    print locals()\", 'exit': <IPython.core.autocall.ZMQExitAutocall object at 0x1065c7b50>, 'get_ipython': <bound method ZMQInteractiveShell.get_ipython of <ipykernel.zmqshell.ZMQInteractiveShell object at 0x1054c07d0>>, '_ii': u\"s= 'This is a global variable'\\n#Not inside a function nor inside a class\\n\\ndef func():\\n    print locals()\", 'In': ['', u'#Decorators can be thought of as functions which modify the functionality of another function. They help to make your code shorter and more \"Pythonic\".\\n\\nTo properly explain decorators we will slowly build up from functions. Make sure to restart the Python and the Notebooks for this lecture to look the same on your own computer. So lets break down the steps:', u'#Decorators can be thought of as functions which modify \\n#the functionality of another function. They help to make your \\n#code shorter and more \"Pythonic\".\\n\\n#To properly explain decorators we will slowly build up \\n#from functions. Make sure to restart the Python and the \\n#Notebooks for this lecture to look the same on your own computer. \\n#So lets break down the steps:', u'def func():\\n    return 1', u'func()', u\"s= 'This is a global variable'\\n#Not inside a function nor inside a class\\n\\ndef funct():\\n    print locals()\", u\"s= 'This is a global variable'\\n#Not inside a function nor inside a class\\n\\ndef func():\\n    print locals()\", u'print globals', u'print globals()'], '_oh': {4: 1}, 'Out': {4: 1}}\n"
     ]
    }
   ],
   "source": [
    "print globals()"
   ]
  },
  {
   "cell_type": "code",
   "execution_count": 9,
   "metadata": {
    "collapsed": false
   },
   "outputs": [
    {
     "name": "stdout",
     "output_type": "stream",
     "text": [
      "['_dh', '__', '_4', '_i', 'quit', '__builtins__', 's', '_ih', '__builtin__', 'func', 'funct', '__name__', '___', '_', '_sh', '_i9', '_i8', '_i7', '_i6', '_i5', '_i4', '_i3', '_i2', '_i1', '__doc__', '_iii', 'exit', 'get_ipython', '_ii', 'In', '_oh', 'Out']\n"
     ]
    }
   ],
   "source": [
    "print globals().keys()"
   ]
  },
  {
   "cell_type": "code",
   "execution_count": 10,
   "metadata": {
    "collapsed": false
   },
   "outputs": [
    {
     "name": "stdout",
     "output_type": "stream",
     "text": [
      "This is a global variable\n"
     ]
    }
   ],
   "source": [
    "#So the 's' that we just created is in there. globals() is a \n",
    "#dictionary, so we can index it using the 's' key...\n",
    "print globals()['s']"
   ]
  },
  {
   "cell_type": "code",
   "execution_count": 12,
   "metadata": {
    "collapsed": true
   },
   "outputs": [],
   "source": [
    "def func():\n",
    "    print locals()"
   ]
  },
  {
   "cell_type": "code",
   "execution_count": 13,
   "metadata": {
    "collapsed": false
   },
   "outputs": [
    {
     "name": "stdout",
     "output_type": "stream",
     "text": [
      "{}\n"
     ]
    }
   ],
   "source": [
    "func()"
   ]
  },
  {
   "cell_type": "code",
   "execution_count": 14,
   "metadata": {
    "collapsed": true
   },
   "outputs": [],
   "source": [
    "#So there are no local variables for this functions...it just\n",
    "#prints an empty dictionary."
   ]
  },
  {
   "cell_type": "code",
   "execution_count": 15,
   "metadata": {
    "collapsed": true
   },
   "outputs": [],
   "source": [
    "#Remember in python that everything is an object. This means that\n",
    "#functions are an object that can be assigned labels and passed into\n",
    "#other functions.\n",
    "\n",
    "def hello(name='jose'):\n",
    "    return \"Hello \" +name"
   ]
  },
  {
   "cell_type": "code",
   "execution_count": 16,
   "metadata": {
    "collapsed": false
   },
   "outputs": [
    {
     "data": {
      "text/plain": [
       "'Hello jose'"
      ]
     },
     "execution_count": 16,
     "metadata": {},
     "output_type": "execute_result"
    }
   ],
   "source": [
    "hello()"
   ]
  },
  {
   "cell_type": "code",
   "execution_count": 17,
   "metadata": {
    "collapsed": true
   },
   "outputs": [],
   "source": [
    "greet = hello\n",
    "#dont need parenthesis here because we are not calling the function\n",
    "#'hello' (not asking it to run), just assigning it to the variable."
   ]
  },
  {
   "cell_type": "code",
   "execution_count": 18,
   "metadata": {
    "collapsed": false
   },
   "outputs": [
    {
     "data": {
      "text/plain": [
       "<function __main__.hello>"
      ]
     },
     "execution_count": 18,
     "metadata": {},
     "output_type": "execute_result"
    }
   ],
   "source": [
    "greet"
   ]
  },
  {
   "cell_type": "code",
   "execution_count": 19,
   "metadata": {
    "collapsed": false
   },
   "outputs": [
    {
     "data": {
      "text/plain": [
       "'Hello jose'"
      ]
     },
     "execution_count": 19,
     "metadata": {},
     "output_type": "execute_result"
    }
   ],
   "source": [
    "greet()\n",
    "#parenthesis make the function run"
   ]
  },
  {
   "cell_type": "code",
   "execution_count": 20,
   "metadata": {
    "collapsed": true
   },
   "outputs": [],
   "source": [
    "#greet isnt actually attached to the hello. meaning, if we delete\n",
    "#hello, then greet still works\n",
    "del hello"
   ]
  },
  {
   "cell_type": "code",
   "execution_count": 22,
   "metadata": {
    "collapsed": false
   },
   "outputs": [
    {
     "ename": "NameError",
     "evalue": "name 'hello' is not defined",
     "output_type": "error",
     "traceback": [
      "\u001b[0;31m---------------------------------------------------------------------------\u001b[0m",
      "\u001b[0;31mNameError\u001b[0m                                 Traceback (most recent call last)",
      "\u001b[0;32m<ipython-input-22-a803225a2f97>\u001b[0m in \u001b[0;36m<module>\u001b[0;34m()\u001b[0m\n\u001b[0;32m----> 1\u001b[0;31m \u001b[0mhello\u001b[0m\u001b[0;34m(\u001b[0m\u001b[0;34m)\u001b[0m\u001b[0;34m\u001b[0m\u001b[0m\n\u001b[0m",
      "\u001b[0;31mNameError\u001b[0m: name 'hello' is not defined"
     ]
    }
   ],
   "source": [
    "hello()"
   ]
  },
  {
   "cell_type": "raw",
   "metadata": {},
   "source": []
  },
  {
   "cell_type": "code",
   "execution_count": 23,
   "metadata": {
    "collapsed": false
   },
   "outputs": [
    {
     "data": {
      "text/plain": [
       "'Hello jose'"
      ]
     },
     "execution_count": 23,
     "metadata": {},
     "output_type": "execute_result"
    }
   ],
   "source": [
    "greet()"
   ]
  },
  {
   "cell_type": "code",
   "execution_count": null,
   "metadata": {
    "collapsed": true
   },
   "outputs": [],
   "source": []
  },
  {
   "cell_type": "code",
   "execution_count": 25,
   "metadata": {
    "collapsed": true
   },
   "outputs": [],
   "source": [
    "#Part 2: Functions within functions"
   ]
  },
  {
   "cell_type": "code",
   "execution_count": 28,
   "metadata": {
    "collapsed": true
   },
   "outputs": [],
   "source": [
    "def hello(name='Jose'):\n",
    "    print 'The hello() function has been executed'\n",
    "    \n",
    "    def greet():\n",
    "        \n",
    "        return '\\t This is inside the greet() function'\n",
    "        #That \\t is a tab\n",
    "    \n",
    "    def welcome():\n",
    "        return '\\t This is inside the welcome() function'\n",
    "    \n",
    "    print greet()\n",
    "    print welcome()\n",
    "    \n",
    "    print 'Now we are back inside the Hello() function'"
   ]
  },
  {
   "cell_type": "code",
   "execution_count": 29,
   "metadata": {
    "collapsed": false
   },
   "outputs": [
    {
     "name": "stdout",
     "output_type": "stream",
     "text": [
      "The hello() function has been executed\n",
      "\t This is inside the greet() function\n",
      "\t This is inside the welcome() function\n",
      "Now we are back inside the Hello() function\n"
     ]
    }
   ],
   "source": [
    "hello()"
   ]
  },
  {
   "cell_type": "code",
   "execution_count": 30,
   "metadata": {
    "collapsed": false
   },
   "outputs": [
    {
     "ename": "NameError",
     "evalue": "name 'welcome' is not defined",
     "output_type": "error",
     "traceback": [
      "\u001b[0;31m---------------------------------------------------------------------------\u001b[0m",
      "\u001b[0;31mNameError\u001b[0m                                 Traceback (most recent call last)",
      "\u001b[0;32m<ipython-input-30-efaf77b113fd>\u001b[0m in \u001b[0;36m<module>\u001b[0;34m()\u001b[0m\n\u001b[0;32m----> 1\u001b[0;31m \u001b[0mwelcome\u001b[0m\u001b[0;34m(\u001b[0m\u001b[0;34m)\u001b[0m\u001b[0;34m\u001b[0m\u001b[0m\n\u001b[0m",
      "\u001b[0;31mNameError\u001b[0m: name 'welcome' is not defined"
     ]
    }
   ],
   "source": [
    "welcome()"
   ]
  },
  {
   "cell_type": "code",
   "execution_count": 31,
   "metadata": {
    "collapsed": true
   },
   "outputs": [],
   "source": [
    "#Due to scope, the welcome function is not defined outside of the\n",
    "#hello function. It's not a global function, it is only local to\n",
    "#hello."
   ]
  },
  {
   "cell_type": "code",
   "execution_count": 40,
   "metadata": {
    "collapsed": true
   },
   "outputs": [],
   "source": [
    "def hello(name='Jose'):\n",
    "    \n",
    "    def greet():\n",
    "        \n",
    "        return \"\\t This is inside the greet() function\"\n",
    "        #That \\t is a tab\n",
    "    \n",
    "    def welcome():\n",
    "        return \"\\t This is inside the welcome() function\"\n",
    "    \n",
    "    if name=='Jose':\n",
    "        return greet\n",
    "        #since we don't have greet() parenthesis here, we are just\n",
    "        #returning the function itself. not calling the greet function\n",
    "    else:\n",
    "        return welcome\n",
    "    "
   ]
  },
  {
   "cell_type": "code",
   "execution_count": 41,
   "metadata": {
    "collapsed": false
   },
   "outputs": [
    {
     "data": {
      "text/plain": [
       "<function __main__.greet>"
      ]
     },
     "execution_count": 41,
     "metadata": {},
     "output_type": "execute_result"
    }
   ],
   "source": [
    "hello()"
   ]
  },
  {
   "cell_type": "code",
   "execution_count": 42,
   "metadata": {
    "collapsed": true
   },
   "outputs": [],
   "source": [
    "x=hello()\n",
    "#hello got executed because of the parenthesis, and whatever come of\n",
    "#this execution is now x"
   ]
  },
  {
   "cell_type": "code",
   "execution_count": 43,
   "metadata": {
    "collapsed": false
   },
   "outputs": [
    {
     "data": {
      "text/plain": [
       "<function __main__.greet>"
      ]
     },
     "execution_count": 43,
     "metadata": {},
     "output_type": "execute_result"
    }
   ],
   "source": [
    "x\n",
    "#so x became the greet function since hello had by default name='Jose'\n",
    "#and we put that if statement at the end to return greet if name=='Jose'"
   ]
  },
  {
   "cell_type": "code",
   "execution_count": 45,
   "metadata": {
    "collapsed": false
   },
   "outputs": [
    {
     "data": {
      "text/plain": [
       "'\\t This is inside the greet() function'"
      ]
     },
     "execution_count": 45,
     "metadata": {},
     "output_type": "execute_result"
    }
   ],
   "source": [
    "x()\n",
    "\n",
    "#essentially greet()"
   ]
  },
  {
   "cell_type": "code",
   "execution_count": 46,
   "metadata": {
    "collapsed": true
   },
   "outputs": [],
   "source": [
    "#^So now, on a global scale, we can have a variable x act as the greet\n",
    "#function, which isnt a global function itself"
   ]
  },
  {
   "cell_type": "code",
   "execution_count": null,
   "metadata": {
    "collapsed": true
   },
   "outputs": [],
   "source": []
  },
  {
   "cell_type": "code",
   "execution_count": 47,
   "metadata": {
    "collapsed": true
   },
   "outputs": [],
   "source": [
    "#Part 3- How we can pass functions as arguments...so we are passing\n",
    "#functions into other functions\n",
    "\n",
    "def hello():\n",
    "    return 'Hi Jose!'\n",
    "\n"
   ]
  },
  {
   "cell_type": "code",
   "execution_count": 48,
   "metadata": {
    "collapsed": true
   },
   "outputs": [],
   "source": [
    "def other(func):\n",
    "    print 'Other code goes here!'\n",
    "    print func()"
   ]
  },
  {
   "cell_type": "code",
   "execution_count": 49,
   "metadata": {
    "collapsed": false
   },
   "outputs": [
    {
     "ename": "TypeError",
     "evalue": "other() takes exactly 1 argument (0 given)",
     "output_type": "error",
     "traceback": [
      "\u001b[0;31m---------------------------------------------------------------------------\u001b[0m",
      "\u001b[0;31mTypeError\u001b[0m                                 Traceback (most recent call last)",
      "\u001b[0;32m<ipython-input-49-a00cfe52deeb>\u001b[0m in \u001b[0;36m<module>\u001b[0;34m()\u001b[0m\n\u001b[0;32m----> 1\u001b[0;31m \u001b[0mother\u001b[0m\u001b[0;34m(\u001b[0m\u001b[0;34m)\u001b[0m\u001b[0;34m\u001b[0m\u001b[0m\n\u001b[0m",
      "\u001b[0;31mTypeError\u001b[0m: other() takes exactly 1 argument (0 given)"
     ]
    }
   ],
   "source": [
    "other()"
   ]
  },
  {
   "cell_type": "code",
   "execution_count": 50,
   "metadata": {
    "collapsed": false
   },
   "outputs": [
    {
     "name": "stdout",
     "output_type": "stream",
     "text": [
      "Other code goes here!\n",
      "Hi Jose!\n"
     ]
    }
   ],
   "source": [
    "#^Because it was expecting an argument.\n",
    "\n",
    "other(hello)"
   ]
  },
  {
   "cell_type": "code",
   "execution_count": null,
   "metadata": {
    "collapsed": true
   },
   "outputs": [],
   "source": []
  },
  {
   "cell_type": "code",
   "execution_count": null,
   "metadata": {
    "collapsed": true
   },
   "outputs": [],
   "source": []
  },
  {
   "cell_type": "code",
   "execution_count": 57,
   "metadata": {
    "collapsed": true
   },
   "outputs": [],
   "source": [
    "def new_decorator(func):\n",
    "    \n",
    "    def wrap_func():\n",
    "        print 'Code here, before executing the func'\n",
    "        \n",
    "        func()\n",
    "        \n",
    "        print 'Code here will execute after the func()'\n",
    "        \n",
    "    return wrap_func\n",
    "    #Returning the function itself, not the execution of that function"
   ]
  },
  {
   "cell_type": "code",
   "execution_count": 58,
   "metadata": {
    "collapsed": true
   },
   "outputs": [],
   "source": [
    "def func_needs_decorator():\n",
    "    print 'This function needs a decorator!'"
   ]
  },
  {
   "cell_type": "code",
   "execution_count": 59,
   "metadata": {
    "collapsed": false
   },
   "outputs": [
    {
     "name": "stdout",
     "output_type": "stream",
     "text": [
      "This function needs a decorator!\n"
     ]
    }
   ],
   "source": [
    "func_needs_decorator()"
   ]
  },
  {
   "cell_type": "code",
   "execution_count": 60,
   "metadata": {
    "collapsed": false
   },
   "outputs": [
    {
     "data": {
      "text/plain": [
       "<function __main__.wrap_func>"
      ]
     },
     "execution_count": 60,
     "metadata": {},
     "output_type": "execute_result"
    }
   ],
   "source": [
    "new_decorator(func_needs_decorator)\n",
    "\n",
    "#So this is returning wrap_func, but not running it. wrap_func, if run, \n",
    "#will be the print 'Code here, before...\" statement, the print \n",
    "#\"This function needs a decorator!\" statement, and the print \"Code\n",
    "#here will execute...\" statement."
   ]
  },
  {
   "cell_type": "code",
   "execution_count": 61,
   "metadata": {
    "collapsed": true
   },
   "outputs": [],
   "source": [
    "func_needs_decorator = new_decorator(func_needs_decorator)"
   ]
  },
  {
   "cell_type": "code",
   "execution_count": 62,
   "metadata": {
    "collapsed": false
   },
   "outputs": [
    {
     "name": "stdout",
     "output_type": "stream",
     "text": [
      "Code here, before executing the func\n",
      "This function needs a decorator!\n",
      "Code here will execute after the func()\n"
     ]
    }
   ],
   "source": [
    "func_needs_decorator()\n",
    "#This is essentially running wrap_func(), so we get those three\n",
    "#print statements I just mentioned.\n",
    "\n",
    "#The behavior of the function was modified by a decorator!"
   ]
  },
  {
   "cell_type": "code",
   "execution_count": null,
   "metadata": {
    "collapsed": true
   },
   "outputs": [],
   "source": [
    "\n"
   ]
  },
  {
   "cell_type": "code",
   "execution_count": 63,
   "metadata": {
    "collapsed": true
   },
   "outputs": [],
   "source": [
    "#So the decorator \"new_decorator\" wrapped the function and \n",
    "#modified its behavior. This is exactly what a decorator does.\n",
    "\n",
    "#Python recognizes decorators with the @ symbol..."
   ]
  },
  {
   "cell_type": "code",
   "execution_count": 64,
   "metadata": {
    "collapsed": true
   },
   "outputs": [],
   "source": [
    "@new_decorator\n",
    "def func_needs_decorator():\n",
    "    print 'This function needs a decorator!'"
   ]
  },
  {
   "cell_type": "code",
   "execution_count": 65,
   "metadata": {
    "collapsed": false
   },
   "outputs": [
    {
     "name": "stdout",
     "output_type": "stream",
     "text": [
      "Code here, before executing the func\n",
      "This function needs a decorator!\n",
      "Code here will execute after the func()\n"
     ]
    }
   ],
   "source": [
    "func_needs_decorator()"
   ]
  },
  {
   "cell_type": "code",
   "execution_count": 66,
   "metadata": {
    "collapsed": true
   },
   "outputs": [],
   "source": [
    "#So we get the exact same code as if we had run:\n",
    "#func_needs_decorator = new_decorator(func_needs_decorator)"
   ]
  },
  {
   "cell_type": "code",
   "execution_count": null,
   "metadata": {
    "collapsed": true
   },
   "outputs": [],
   "source": [
    "#So we can use @somedecorator and run it with the def of a function\n",
    "#instead of running the function without a decorator, then reassigning\n",
    "#it with a decorator around it."
   ]
  }
 ],
 "metadata": {
  "kernelspec": {
   "display_name": "Python 2",
   "language": "python",
   "name": "python2"
  },
  "language_info": {
   "codemirror_mode": {
    "name": "ipython",
    "version": 2
   },
   "file_extension": ".py",
   "mimetype": "text/x-python",
   "name": "python",
   "nbconvert_exporter": "python",
   "pygments_lexer": "ipython2",
   "version": "2.7.11"
  }
 },
 "nbformat": 4,
 "nbformat_minor": 0
}
