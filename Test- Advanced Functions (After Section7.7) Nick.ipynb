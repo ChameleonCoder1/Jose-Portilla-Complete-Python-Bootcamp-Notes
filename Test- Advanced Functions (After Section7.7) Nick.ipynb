{
 "cells": [
  {
   "cell_type": "code",
   "execution_count": 1,
   "metadata": {
    "collapsed": true
   },
   "outputs": [],
   "source": [
    "#For this test, all the functions should be in-line (built-in\n",
    "#functions and use one line of code).\n"
   ]
  },
  {
   "cell_type": "code",
   "execution_count": null,
   "metadata": {
    "collapsed": true
   },
   "outputs": [],
   "source": []
  },
  {
   "cell_type": "code",
   "execution_count": 4,
   "metadata": {
    "collapsed": true
   },
   "outputs": [],
   "source": [
    "#Problem 1. Use map to create a function \n",
    "#which finds the length of each word \n",
    "#in the phrase (broken by spaces) and\n",
    "#return the values in a list.\n",
    "\n",
    "#The function will have an input of a string, and output a list\n",
    "#of integers.\n",
    "\n",
    "def word_lengths(phrase):\n",
    "    pass\n",
    "\n",
    "#input: word_lengths('How long are the words in this phrase')\n",
    "\n",
    "#Output: [3, 4, 3, 3, 5, 2, 4, 6]\n",
    "\n"
   ]
  },
  {
   "cell_type": "code",
   "execution_count": 34,
   "metadata": {
    "collapsed": true
   },
   "outputs": [],
   "source": [
    "def word_lengths(phrase):\n",
    "    return map(len, phrase.split())\n",
    "    \n",
    "    \n",
    "    "
   ]
  },
  {
   "cell_type": "code",
   "execution_count": 35,
   "metadata": {
    "collapsed": false
   },
   "outputs": [
    {
     "data": {
      "text/plain": [
       "[3, 4, 3, 3, 5, 2, 4, 6]"
      ]
     },
     "execution_count": 35,
     "metadata": {},
     "output_type": "execute_result"
    }
   ],
   "source": [
    "word_lengths(\"How long are the words in this phrase\")"
   ]
  },
  {
   "cell_type": "code",
   "execution_count": null,
   "metadata": {
    "collapsed": true
   },
   "outputs": [],
   "source": []
  },
  {
   "cell_type": "code",
   "execution_count": 5,
   "metadata": {
    "collapsed": true
   },
   "outputs": [],
   "source": [
    "#Problem 2. Use reduce to take a list of digits \n",
    "#and return the number that they correspond to. \n",
    "#Do not convert the integers to strings!\n",
    "\n",
    "def digits_to_num(digits):\n",
    "    \n",
    "    pass\n",
    "\n",
    "#input: digits_to_num([3,4,3,2,1])\n",
    "\n",
    "#Output: 34321\n",
    "\n"
   ]
  },
  {
   "cell_type": "code",
   "execution_count": 48,
   "metadata": {
    "collapsed": true
   },
   "outputs": [],
   "source": [
    "def digits_to_num(digits):\n",
    "    \n",
    "    return reduce(lambda a,b: a*10+b, digits)"
   ]
  },
  {
   "cell_type": "code",
   "execution_count": 49,
   "metadata": {
    "collapsed": false
   },
   "outputs": [
    {
     "data": {
      "text/plain": [
       "34321"
      ]
     },
     "execution_count": 49,
     "metadata": {},
     "output_type": "execute_result"
    }
   ],
   "source": [
    "digits_to_num([3,4,3,2,1])"
   ]
  },
  {
   "cell_type": "code",
   "execution_count": null,
   "metadata": {
    "collapsed": true
   },
   "outputs": [],
   "source": []
  },
  {
   "cell_type": "code",
   "execution_count": 4,
   "metadata": {
    "collapsed": false
   },
   "outputs": [],
   "source": [
    "#Problem 3. Use filter to return the words from a \n",
    "#list of words which start with a target letter.\n",
    "\n",
    "\n",
    "\n",
    "def filter_words(word_list, letter):\n",
    "    \n",
    "    pass\n",
    "\n",
    "\n",
    "#input: l = ['hello','are','cat','dog','ham','hi','go','to','heart']\n",
    "        #filter_words(l,'h')\n",
    "\n",
    "#output: ['hello', 'ham', 'hi', 'heart']\n",
    "\n"
   ]
  },
  {
   "cell_type": "code",
   "execution_count": 11,
   "metadata": {
    "collapsed": false
   },
   "outputs": [],
   "source": [
    "def filter_words(word_list, letter):\n",
    "    \n",
    "    return filter(lambda word: word[0]==letter, word_list)\n"
   ]
  },
  {
   "cell_type": "code",
   "execution_count": 12,
   "metadata": {
    "collapsed": false
   },
   "outputs": [
    {
     "data": {
      "text/plain": [
       "['hello', 'ham', 'hi', 'heart']"
      ]
     },
     "execution_count": 12,
     "metadata": {},
     "output_type": "execute_result"
    }
   ],
   "source": [
    "l = ['hello','are','cat','dog','ham','hi','go','to','heart']\n",
    "filter_words(l,'h')"
   ]
  },
  {
   "cell_type": "code",
   "execution_count": null,
   "metadata": {
    "collapsed": true
   },
   "outputs": [],
   "source": []
  },
  {
   "cell_type": "code",
   "execution_count": 15,
   "metadata": {
    "collapsed": true
   },
   "outputs": [],
   "source": [
    "#Problem 4. Use zip and list comprehension to \n",
    "#return a list of the same length where each value \n",
    "#is the two strings from L1 and L2 concatenated \n",
    "#together with connector between them. Look at the \n",
    "#example output below:\n",
    "\n",
    "\n",
    "def concatenate(L1, L2, connector):\n",
    "    return [word1+connector+word2 for (word1, word2) in zip(L1,L2)]\n",
    "\n",
    "#input: concatenate(['A','B'],['a','b'],'-')\n",
    "\n",
    "#output: ['A-a', 'B-b']\n",
    "\n"
   ]
  },
  {
   "cell_type": "code",
   "execution_count": 16,
   "metadata": {
    "collapsed": false
   },
   "outputs": [
    {
     "data": {
      "text/plain": [
       "['A-a', 'B-b']"
      ]
     },
     "execution_count": 16,
     "metadata": {},
     "output_type": "execute_result"
    }
   ],
   "source": [
    "concatenate(['A','B'],['a','b'],'-')"
   ]
  },
  {
   "cell_type": "code",
   "execution_count": null,
   "metadata": {
    "collapsed": true
   },
   "outputs": [],
   "source": []
  },
  {
   "cell_type": "code",
   "execution_count": null,
   "metadata": {
    "collapsed": true
   },
   "outputs": [],
   "source": []
  },
  {
   "cell_type": "code",
   "execution_count": 42,
   "metadata": {
    "collapsed": false
   },
   "outputs": [],
   "source": [
    "#Problem 5. Use enumerate and other skills to return \n",
    "#a dictionary which has the elements of the list as keys \n",
    "#and the index as the value. You may assume that a value\n",
    "#will only appear once in the given list.\n",
    "\n",
    "def d_list(L):\n",
    "    return {item:count for count,item in enumerate(L)}\n",
    "        \n",
    "\n",
    "#input: d_list(['a','b','c'])\n",
    "\n",
    "#output: {'a': 0, 'b': 1, 'c': 2}\n",
    "\n"
   ]
  },
  {
   "cell_type": "code",
   "execution_count": 43,
   "metadata": {
    "collapsed": false
   },
   "outputs": [
    {
     "data": {
      "text/plain": [
       "{'a': 0, 'b': 1, 'c': 2}"
      ]
     },
     "execution_count": 43,
     "metadata": {},
     "output_type": "execute_result"
    }
   ],
   "source": [
    "d_list(['a','b','c'])"
   ]
  },
  {
   "cell_type": "code",
   "execution_count": null,
   "metadata": {
    "collapsed": false
   },
   "outputs": [],
   "source": []
  },
  {
   "cell_type": "code",
   "execution_count": null,
   "metadata": {
    "collapsed": true
   },
   "outputs": [],
   "source": []
  },
  {
   "cell_type": "code",
   "execution_count": 91,
   "metadata": {
    "collapsed": false
   },
   "outputs": [],
   "source": [
    "#Problem 6. Use enumerate and other skills \n",
    "#from above to return the count of the number of \n",
    "#items in the list whose value equals its index.\n",
    "\n",
    "def count_match_index(L):\n",
    "    d=0\n",
    "    for count, item in enumerate(L):\n",
    "            if item==count:\n",
    "                d=d+1\n",
    "            else:\n",
    "                continue\n",
    "    print d\n",
    "\n",
    "    \n",
    "\n",
    "#input: count_match_index([0,2,2,1,5,5,6,10])\n",
    "\n",
    "#output: 4\n",
    "\n"
   ]
  },
  {
   "cell_type": "code",
   "execution_count": 92,
   "metadata": {
    "collapsed": false
   },
   "outputs": [
    {
     "name": "stdout",
     "output_type": "stream",
     "text": [
      "4\n"
     ]
    }
   ],
   "source": [
    "count_match_index([0,2,2,1,5,5,6,10])"
   ]
  },
  {
   "cell_type": "code",
   "execution_count": 89,
   "metadata": {
    "collapsed": true
   },
   "outputs": [],
   "source": [
    "#Or:\n",
    "def count_match_index2(L):\n",
    "    \n",
    "    return len([item for count,item in enumerate(L) if item==count])"
   ]
  },
  {
   "cell_type": "code",
   "execution_count": 90,
   "metadata": {
    "collapsed": false
   },
   "outputs": [
    {
     "data": {
      "text/plain": [
       "4"
      ]
     },
     "execution_count": 90,
     "metadata": {},
     "output_type": "execute_result"
    }
   ],
   "source": [
    "count_match_index2([0,2,2,1,5,5,6,10])"
   ]
  },
  {
   "cell_type": "code",
   "execution_count": null,
   "metadata": {
    "collapsed": true
   },
   "outputs": [],
   "source": []
  }
 ],
 "metadata": {
  "kernelspec": {
   "display_name": "Python 2",
   "language": "python",
   "name": "python2"
  },
  "language_info": {
   "codemirror_mode": {
    "name": "ipython",
    "version": 2
   },
   "file_extension": ".py",
   "mimetype": "text/x-python",
   "name": "python",
   "nbconvert_exporter": "python",
   "pygments_lexer": "ipython2",
   "version": "2.7.11"
  }
 },
 "nbformat": 4,
 "nbformat_minor": 0
}
