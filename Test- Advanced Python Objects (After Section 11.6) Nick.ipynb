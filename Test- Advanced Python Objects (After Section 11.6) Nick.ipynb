{
 "cells": [
  {
   "cell_type": "code",
   "execution_count": 9,
   "metadata": {
    "collapsed": false
   },
   "outputs": [],
   "source": [
    "#Problem 1\n",
    "\n",
    "#Use map to create a function which finds the \n",
    "#length of each word in the phrase (broken by spaces) and \n",
    "#return the values in a list.\n",
    "\n",
    "#The function will have an input of a string, and output \n",
    "#a list of integers.\n",
    "\n",
    "def word_lengths(phrase):\n",
    "    \n",
    "    pass\n",
    "\n",
    "#Input: word_lengths('How long are the words in this phrase')\n",
    "\n",
    "#Output: [3, 4, 3, 3, 5, 2, 4, 6]"
   ]
  },
  {
   "cell_type": "code",
   "execution_count": null,
   "metadata": {
    "collapsed": true
   },
   "outputs": [],
   "source": []
  },
  {
   "cell_type": "code",
   "execution_count": null,
   "metadata": {
    "collapsed": true
   },
   "outputs": [],
   "source": []
  },
  {
   "cell_type": "code",
   "execution_count": null,
   "metadata": {
    "collapsed": true
   },
   "outputs": [],
   "source": []
  },
  {
   "cell_type": "code",
   "execution_count": null,
   "metadata": {
    "collapsed": true
   },
   "outputs": [],
   "source": []
  },
  {
   "cell_type": "code",
   "execution_count": 10,
   "metadata": {
    "collapsed": false
   },
   "outputs": [],
   "source": [
    "#Problem 2\n",
    "\n",
    "#Use reduce to take a list of digits and return the \n",
    "#number that they correspond to. Do not convert the integers to strings!\n",
    "\n",
    "def digits_to_num(digits):\n",
    "    \n",
    "    pass\n",
    "\n",
    "#Input: digits_to_num([3,4,3,2,1])\n",
    "\n",
    "#Output: 34321\n",
    "\n"
   ]
  },
  {
   "cell_type": "code",
   "execution_count": null,
   "metadata": {
    "collapsed": true
   },
   "outputs": [],
   "source": []
  },
  {
   "cell_type": "code",
   "execution_count": null,
   "metadata": {
    "collapsed": true
   },
   "outputs": [],
   "source": []
  },
  {
   "cell_type": "code",
   "execution_count": null,
   "metadata": {
    "collapsed": true
   },
   "outputs": [],
   "source": []
  },
  {
   "cell_type": "code",
   "execution_count": null,
   "metadata": {
    "collapsed": true
   },
   "outputs": [],
   "source": []
  },
  {
   "cell_type": "code",
   "execution_count": null,
   "metadata": {
    "collapsed": true
   },
   "outputs": [],
   "source": []
  },
  {
   "cell_type": "code",
   "execution_count": 11,
   "metadata": {
    "collapsed": false
   },
   "outputs": [],
   "source": [
    "#Problem 3\n",
    "\n",
    "#Use filter to return the words from a list of words \n",
    "#which start with a target letter.\n",
    "\n",
    "def filter_words(word_list, letter):\n",
    "    \n",
    "    pass\n",
    "\n",
    "#Input: l = ['hello','are','cat','dog','ham','hi','go','to','heart']\n",
    "#filter_words(l,'h')\n",
    "\n",
    "#Output: ['hello', 'ham', 'hi', 'heart']\n",
    "\n"
   ]
  },
  {
   "cell_type": "code",
   "execution_count": null,
   "metadata": {
    "collapsed": true
   },
   "outputs": [],
   "source": []
  },
  {
   "cell_type": "code",
   "execution_count": null,
   "metadata": {
    "collapsed": true
   },
   "outputs": [],
   "source": []
  },
  {
   "cell_type": "code",
   "execution_count": null,
   "metadata": {
    "collapsed": true
   },
   "outputs": [],
   "source": []
  },
  {
   "cell_type": "code",
   "execution_count": null,
   "metadata": {
    "collapsed": true
   },
   "outputs": [],
   "source": []
  },
  {
   "cell_type": "code",
   "execution_count": 12,
   "metadata": {
    "collapsed": false
   },
   "outputs": [],
   "source": [
    "#Problem 4\n",
    "\n",
    "#Use zip and list comprehension to return a list of \n",
    "#the same length where each value is the two strings \n",
    "#from L1 and L2 concatenated together with connector between \n",
    "#them. Look at the example output below:\n",
    "\n",
    "def concatenate(L1, L2, connector):\n",
    "    \n",
    "    pass\n",
    "\n",
    "#Input: concatenate(['A','B'],['a','b'],'-')\n",
    "\n",
    "#Output: ['A-a', 'B-b']\n",
    "\n"
   ]
  },
  {
   "cell_type": "code",
   "execution_count": null,
   "metadata": {
    "collapsed": true
   },
   "outputs": [],
   "source": []
  },
  {
   "cell_type": "code",
   "execution_count": null,
   "metadata": {
    "collapsed": true
   },
   "outputs": [],
   "source": []
  },
  {
   "cell_type": "code",
   "execution_count": null,
   "metadata": {
    "collapsed": true
   },
   "outputs": [],
   "source": []
  },
  {
   "cell_type": "code",
   "execution_count": null,
   "metadata": {
    "collapsed": true
   },
   "outputs": [],
   "source": []
  },
  {
   "cell_type": "code",
   "execution_count": 13,
   "metadata": {
    "collapsed": false
   },
   "outputs": [],
   "source": [
    "#Problem 5¶\n",
    "\n",
    "#Use enumerate and other skills to return a dictionary \n",
    "#which has the values of the list as keys and the index \n",
    "#as the value. You may assume that a value will only appear\n",
    "#once in the given list.\n",
    "\n",
    "def d_list(L):\n",
    "    \n",
    "    pass\n",
    "\n",
    "#Input: d_list(['a','b','c'])\n",
    "\n",
    "#Output: {'a': 0, 'b': 1, 'c': 2}\n",
    "\n"
   ]
  },
  {
   "cell_type": "code",
   "execution_count": null,
   "metadata": {
    "collapsed": true
   },
   "outputs": [],
   "source": []
  },
  {
   "cell_type": "code",
   "execution_count": null,
   "metadata": {
    "collapsed": true
   },
   "outputs": [],
   "source": []
  },
  {
   "cell_type": "code",
   "execution_count": null,
   "metadata": {
    "collapsed": true
   },
   "outputs": [],
   "source": []
  },
  {
   "cell_type": "code",
   "execution_count": null,
   "metadata": {
    "collapsed": true
   },
   "outputs": [],
   "source": []
  },
  {
   "cell_type": "code",
   "execution_count": 14,
   "metadata": {
    "collapsed": false
   },
   "outputs": [],
   "source": [
    "#Problem 6\n",
    "\n",
    "#Use enumerate and other skills from above to return the\n",
    "#count of the number of items in the list whose value equals its index.\n",
    "\n",
    "def count_match_index(L):\n",
    "   \n",
    "    pass\n",
    "\n",
    "#Input: count_match_index([0,2,2,1,5,5,6,10])\n",
    "\n",
    "#Output: 4\n",
    "\n"
   ]
  },
  {
   "cell_type": "code",
   "execution_count": null,
   "metadata": {
    "collapsed": true
   },
   "outputs": [],
   "source": []
  }
 ],
 "metadata": {
  "kernelspec": {
   "display_name": "Python 2",
   "language": "python",
   "name": "python2"
  },
  "language_info": {
   "codemirror_mode": {
    "name": "ipython",
    "version": 2
   },
   "file_extension": ".py",
   "mimetype": "text/x-python",
   "name": "python",
   "nbconvert_exporter": "python",
   "pygments_lexer": "ipython2",
   "version": "2.7.11"
  }
 },
 "nbformat": 4,
 "nbformat_minor": 0
}
